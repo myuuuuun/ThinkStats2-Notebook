{
 "metadata": {
  "name": "",
  "signature": "sha256:106f3a87a82541875b971bfe6d86b1880217e24df2afb25cb1f743f74665cb11"
 },
 "nbformat": 3,
 "nbformat_minor": 0,
 "worksheets": [
  {
   "cells": [
    {
     "cell_type": "markdown",
     "metadata": {},
     "source": [
      "# ThinkStat2  Chapter2  Exercise\u306e\u30b5\u30f3\u30d7\u30eb\u30b3\u30fc\u30c9\u3000\u5b9f\u884c\u4f8b"
     ]
    },
    {
     "cell_type": "markdown",
     "metadata": {},
     "source": [
      "## \u30e2\u30b8\u30e5\u30fc\u30eb\u985e\u306e\u30a4\u30f3\u30dd\u30fc\u30c8"
     ]
    },
    {
     "cell_type": "code",
     "collapsed": false,
     "input": [
      "#!/usr/bin/python\n",
      "#-*- encoding: utf-8 -*-\n",
      "\"\"\"\n",
      "Sample Codes for ThinkStats2 - Chapter2\n",
      "\n",
      "Copyright 2015 @myuuuuun\n",
      "URL: https://github.com/myuuuuun/ThinkStats2-Notebook\n",
      "License: GNU GPLv3 http://www.gnu.org/licenses/gpl.html\n",
      "\"\"\"\n",
      "\n",
      "%matplotlib inline\n",
      "import sys\n",
      "sys.path.append('./code')\n",
      "import pandas as pd\n",
      "import nsfg\n",
      "import custom_functions as cf\n",
      "import sys\n",
      "import math\n",
      "import thinkstats2\n",
      "import thinkplot\n",
      "\n",
      "\n",
      "# Cohen\u306ed\u3092\u6c42\u3081\u308b\n",
      "def CohenEffectSize(g1, g2):\n",
      "    diff = g1.mean() - g2.mean()\n",
      "    var1 = g1.var()\n",
      "    var2 = g2.var()\n",
      "    n1 = len(g1)\n",
      "    n2 = len(g2)\n",
      "\n",
      "    pooled_var = (n1 * var1 + n2 * var2) / (n1 + n2)\n",
      "    d = diff / math.sqrt(pooled_var)\n",
      "    return d"
     ],
     "language": "python",
     "metadata": {},
     "outputs": [],
     "prompt_number": 1
    },
    {
     "cell_type": "markdown",
     "metadata": {},
     "source": [
      "## Exercise2 Problem1\n",
      "\n",
      "\n",
      "\u56de\u7b54\u8005\u306e\u5e74\u9f62\u3092\u30d2\u30b9\u30c8\u30b0\u30e9\u30e0\u3067\u8868\u793a\u3059\u308b"
     ]
    },
    {
     "cell_type": "code",
     "collapsed": false,
     "input": [
      "def ex2pr1():\n",
      "    df = cf.ReadFemResp()\n",
      "    #print(df.age_r.value_counts().sort_index())  #\u5e74\u9f62\u306e\u983b\u5ea6\u3092\u8868\u793a\uff08\u5e74\u9f62\u9806\uff09\n",
      "    #print(df.age_r.value_counts())  #\u5e74\u9f62\u306e\u983b\u5ea6\u3092\u8868\u793a\uff08\u983b\u5ea6\u9806\uff09\n",
      "    hist = thinkstats2.Hist(df.age_r, label='age_r')\n",
      "    thinkplot.Hist(hist)\n",
      "    thinkplot.Show()\n",
      "\n",
      "\n",
      "ex2pr1()"
     ],
     "language": "python",
     "metadata": {},
     "outputs": [
      {
       "metadata": {},
       "output_type": "display_data",
       "png": "[encoded data removed]",
       "text": [
        "<matplotlib.figure.Figure at 0x10c2942d0>"
       ]
      },
      {
       "metadata": {},
       "output_type": "display_data",
       "text": [
        "<matplotlib.figure.Figure at 0x111bd8cd0>"
       ]
      }
     ],
     "prompt_number": 2
    },
    {
     "cell_type": "markdown",
     "metadata": {},
     "source": [
      "## Exercise2 Problem2\n",
      "\n",
      "\n",
      "\u56de\u7b54\u8005\u306e\u5bb6\u65cf\u4eba\u6570\u3092\u30d2\u30b9\u30c8\u30b0\u30e9\u30e0\u3067\u8868\u793a\u3059\u308b"
     ]
    },
    {
     "cell_type": "code",
     "collapsed": false,
     "input": [
      "def ex2pr2():\n",
      "    df = cf.ReadFemResp()\n",
      "    #print(df.numfmhh.value_counts().sort_index())  #\u5bb6\u65cf\u4eba\u6570\u306e\u983b\u5ea6\u3092\u8868\u793a\uff08\u5bb6\u65cf\u306e\u4eba\u6570\u9806\uff09\n",
      "    #print(df.numfmhh.value_counts())  #\u5bb6\u65cf\u4eba\u6570\u306e\u983b\u5ea6\u3092\u8868\u793a\uff08\u983b\u5ea6\u9806\uff09\n",
      "    hist = thinkstats2.Hist(df.numfmhh, label='anumfmhh')\n",
      "    thinkplot.Hist(hist)\n",
      "    thinkplot.Show()\n",
      "\n",
      "\n",
      "ex2pr2()"
     ],
     "language": "python",
     "metadata": {},
     "outputs": [
      {
       "metadata": {},
       "output_type": "display_data",
       "png": "[encoded data removed]",
       "text": [
        "<matplotlib.figure.Figure at 0x11190be50>"
       ]
      },
      {
       "metadata": {},
       "output_type": "display_data",
       "text": [
        "<matplotlib.figure.Figure at 0x11188dd50>"
       ]
      }
     ],
     "prompt_number": 3
    },
    {
     "cell_type": "markdown",
     "metadata": {},
     "source": [
      "## Exercise2 Problem3\n",
      "\n",
      "\n",
      "\u51fa\u7523\u3057\u305f\u5b50\u4f9b\u306e\u4eba\u6570\u3092\u30d2\u30b9\u30c8\u30b0\u30e9\u30e0\u3067\u8868\u793a\u3059\u308b"
     ]
    },
    {
     "cell_type": "code",
     "collapsed": false,
     "input": [
      "def ex2pr3():\n",
      "    df = cf.ReadFemResp()\n",
      "    #print(df.parity.value_counts().sort_index())  #\u51fa\u7523\u4eba\u6570\u306e\u983b\u5ea6\u3092\u8868\u793a\uff08\u5bb6\u65cf\u4eba\u6570\u9806\uff09\u300222\u308416\u306f\u30a8\u30e9\u30fc\u3068\u307f\u306a\u305b\u308b\u304b\u3082\u3057\u308c\u306a\u3044\u3002\n",
      "    #print(df.parity.value_counts())  #\u51fa\u7523\u4eba\u6570\u306e\u983b\u5ea6\u3092\u8868\u793a\uff08\u983b\u5ea6\u9806\uff09\n",
      "    hist = thinkstats2.Hist(df.parity, label='parity')\n",
      "    thinkplot.Hist(hist)\n",
      "    thinkplot.Show()\n",
      "\n",
      "\n",
      "ex2pr3()"
     ],
     "language": "python",
     "metadata": {},
     "outputs": [
      {
       "metadata": {},
       "output_type": "display_data",
       "png": "[encoded data removed]",
       "text": [
        "<matplotlib.figure.Figure at 0x10d6d0610>"
       ]
      },
      {
       "metadata": {},
       "output_type": "display_data",
       "text": [
        "<matplotlib.figure.Figure at 0x111b2ec10>"
       ]
      }
     ],
     "prompt_number": 4
    },
    {
     "cell_type": "markdown",
     "metadata": {},
     "source": [
      "## Exercise2 Problem4\n",
      "\n",
      "\n",
      "\u51fa\u7523\u4eba\u6570\u4e0a\u4f4dn\u4ef6\u3092\u8868\u793a\u3059\u308b"
     ]
    },
    {
     "cell_type": "code",
     "collapsed": false,
     "input": [
      "def ex2pr4():\n",
      "    df = cf.ReadFemResp()\n",
      "    #print(df.parity.value_counts().sort_index())  #\u51fa\u7523\u4eba\u6570\u306e\u983b\u5ea6\u3092\u8868\u793a\uff08\u5bb6\u65cf\u4eba\u6570\u9806\uff09\u300222\u308416\u306f\u30a8\u30e9\u30fc\u3068\u307f\u306a\u305b\u308b\u304b\u3082\u3057\u308c\u306a\u3044\u3002\n",
      "    #print(df.parity.value_counts())  #\u51fa\u7523\u4eba\u6570\u306e\u983b\u5ea6\u3092\u8868\u793a\uff08\u983b\u5ea6\u9806\uff09\n",
      "    hist = thinkstats2.Hist(df.parity)\n",
      "    print(hist.Largest(5))\n",
      "\n",
      "\n",
      "ex2pr4()"
     ],
     "language": "python",
     "metadata": {},
     "outputs": [
      {
       "output_type": "stream",
       "stream": "stdout",
       "text": [
        "[(22, 1), (16, 1), (10, 3), (9, 2), (8, 8)]\n"
       ]
      }
     ],
     "prompt_number": 5
    },
    {
     "cell_type": "markdown",
     "metadata": {},
     "source": [
      "## Exercise2 Problem5\n",
      "\n",
      "\n",
      "\u5bcc\u88d5\u5c64\u306e\u51fa\u7523\u4eba\u6570\u3092\u30d2\u30b9\u30c8\u30b0\u30e9\u30e0\u3067\u8868\u793a\u3059\u308b\n",
      "\n",
      "totincr\u306e\u8a73\u7d30: http://www.icpsr.umich.edu/nsfg6/Controller?displayPage=labelDetails&fileCode=MALE&section=R&subSec=7958&srtLabel=609776  \n",
      "\u53ce\u516575000$\u4ee5\u4e0a\u306e\u4eba\uff08totincr = 14\u306e\u4eba\uff09\u3092rich people\u3068\u304b\u3093\u304c\u3048\u308b\u3002  \n"
     ]
    },
    {
     "cell_type": "code",
     "collapsed": false,
     "input": [
      "def ex2pr5():\n",
      "    df = cf.ReadFemResp()\n",
      "    rich = df[df.totincr == 14]\n",
      "    #print(rich.parity.value_counts().sort_index())  #\u51fa\u7523\u4eba\u6570\u306e\u983b\u5ea6\u3092\u8868\u793a\uff08\u5bb6\u65cf\u4eba\u6570\u9806\uff09\n",
      "    #print(rich.parity.value_counts())  #\u51fa\u7523\u4eba\u6570\u306e\u983b\u5ea6\u3092\u8868\u793a\uff08\u983b\u5ea6\u9806\uff09\n",
      "    hist = thinkstats2.Hist(rich.parity, label='r_parity')\n",
      "    thinkplot.Hist(hist)\n",
      "    thinkplot.Show()\n",
      "\n",
      "\n",
      "ex2pr5()"
     ],
     "language": "python",
     "metadata": {},
     "outputs": [
      {
       "metadata": {},
       "output_type": "display_data",
       "png": "[encoded data removed]",
       "text": [
        "<matplotlib.figure.Figure at 0x10d169650>"
       ]
      },
      {
       "metadata": {},
       "output_type": "display_data",
       "text": [
        "<matplotlib.figure.Figure at 0x11616d110>"
       ]
      }
     ],
     "prompt_number": 6
    },
    {
     "cell_type": "markdown",
     "metadata": {},
     "source": [
      "## Exercise2 Problem6\n",
      "\n",
      "\n",
      "\u5bcc\u88d5\u5c64\u306e\u51fa\u7523\u4eba\u6570\u4e0a\u4f4dn\u4ef6\u3092\u8868\u793a\u3059\u308b"
     ]
    },
    {
     "cell_type": "code",
     "collapsed": false,
     "input": [
      "def ex2pr6():\n",
      "    df = cf.ReadFemResp()\n",
      "    rich = df[df.totincr == 14]\n",
      "    #print(rich.parity.value_counts().sort_index())  #\u51fa\u7523\u4eba\u6570\u306e\u983b\u5ea6\u3092\u8868\u793a\uff08\u5bb6\u65cf\u4eba\u6570\u9806\uff09\n",
      "    #print(rich.parity.value_counts())  #\u51fa\u7523\u4eba\u6570\u306e\u983b\u5ea6\u3092\u8868\u793a\uff08\u983b\u5ea6\u9806\uff09\n",
      "    hist = thinkstats2.Hist(rich.parity)\n",
      "    print(hist.Largest(5))\n",
      "\n",
      "\n",
      "ex2pr6()"
     ],
     "language": "python",
     "metadata": {},
     "outputs": [
      {
       "output_type": "stream",
       "stream": "stdout",
       "text": [
        "[(8, 1), (7, 1), (5, 5), (4, 19), (3, 123)]\n"
       ]
      }
     ],
     "prompt_number": 7
    },
    {
     "cell_type": "markdown",
     "metadata": {},
     "source": [
      "## Exercise2 Problem7\n",
      "\n",
      "\n",
      "\u5bcc\u88d5\u5c64\u3068\u305d\u308c\u4ee5\u5916\u306e\u51fa\u7523\u4eba\u6570\u306e\u5e73\u5747\u3092\u6bd4\u8f03\u3059\u308b"
     ]
    },
    {
     "cell_type": "code",
     "collapsed": false,
     "input": [
      "def ex2pr7():\n",
      "    df = cf.ReadFemResp()\n",
      "    rich = df[df.totincr == 14]\n",
      "    norich = df[df.totincr != 14]\n",
      "    print(\"Rich: \"+ str(rich.parity.mean()))\n",
      "    print(\"Others: \" + str(norich.parity.mean()))\n",
      "\n",
      "\n",
      "ex2pr7()"
     ],
     "language": "python",
     "metadata": {},
     "outputs": [
      {
       "output_type": "stream",
       "stream": "stdout",
       "text": [
        "Rich: 1.07586206897\n",
        "Others: 1.24957581367\n"
       ]
      }
     ],
     "prompt_number": 10
    },
    {
     "cell_type": "markdown",
     "metadata": {},
     "source": [
      "## Exercise3\n",
      "\n",
      "\n",
      "\"The mode of a distribution is the most frequent value; see http://wikipedia.org/wiki/Mode_(statistics).  \n",
      "Write a function called Mode that takes a Hist and returns the most frequent value.   \n",
      "As a more challenging exercise, write a function called AllModes that returns a list of value-frequency pairs in descending order of frequency.\"\n",
      "\n",
      "parity\uff08\u51fa\u7523\u4eba\u6570\uff09\u3067\u9069\u5f53\u306b\u5b9f\u9a13\u3057\u3066\u307f\u308b"
     ]
    },
    {
     "cell_type": "code",
     "collapsed": false,
     "input": [
      "# Hist\u30aa\u30d6\u30b8\u30a7\u30af\u30c8\u3092\u5f15\u6570\u306b\u53d6\u308a\u3001\u6700\u983b\u5024\u3092\u8fd4\u3059\u95a2\u6570\n",
      "def Mode(hist):\n",
      "    for key, freq in sorted(hist.Items(), key=lambda x:x[1], reverse=True): # \u983b\u5ea6\u306e\u591a\u3044\u9806\u306b\u4e26\u3073\u66ff\u3048\u3066\u30eb\u30fc\u30d7\n",
      "        return key # 1\u9031\u76ee\u3067\u95a2\u6570\u3092\u629c\u3051\u308b\n",
      "\n",
      "\n",
      "# Hist\u30aa\u30d6\u30b8\u30a7\u30af\u30c8\u3092\u5f15\u6570\u306b\u53d6\u308a\u3001\u983b\u5ea6\u306e\u964d\u9806\u306b\u4e26\u3073\u66ff\u3048\u305f[key, frequency]\u306e\u30ea\u30b9\u30c8\uff08\u4e8c\u91cd\u914d\u5217\uff09\u3092\u8fd4\u3059\u95a2\u6570\n",
      "def AllModes(hist):\n",
      "    m_list = []\n",
      "    for key, freq in sorted(hist.Items(), key=lambda x:x[1], reverse=True): # \u983b\u5ea6\u306e\u591a\u3044\u9806\u306b\u4e26\u3073\u66ff\u3048\u3066\u30eb\u30fc\u30d7\n",
      "        m_list += [[key, freq]]\n",
      "    return m_list\n",
      "\n",
      "\n",
      "def ex3():\n",
      "    df = cf.ReadFemResp()\n",
      "    hist = thinkstats2.Hist(df.parity)\n",
      "    print(\"Mode()\")\n",
      "    print(Mode(hist))\n",
      "    \n",
      "    print(\"\\nAllModes\")\n",
      "    print(AllModes(hist))\n",
      "\n",
      "\n",
      "ex3()"
     ],
     "language": "python",
     "metadata": {},
     "outputs": [
      {
       "output_type": "stream",
       "stream": "stdout",
       "text": [
        "Mode()\n",
        "0\n",
        "\n",
        "AllModes\n",
        "[[0, 3230], [2, 1603], [1, 1519], [3, 828], [4, 309], [5, 95], [6, 29], [7, 15], [8, 8], [10, 3], [9, 2], [16, 1], [22, 1]]\n"
       ]
      }
     ],
     "prompt_number": 12
    },
    {
     "cell_type": "markdown",
     "metadata": {},
     "source": [
      "## Exercise4\n",
      "\n",
      "\n",
      "\u4e00\u756a\u76ee\u306e\u8d64\u3061\u3083\u3093\u306f\u4ed6\u306e\u8d64\u3061\u3083\u3093\u3088\u308a\u3082\u8efd\u3044\u304b\u91cd\u3044\u304b\u3092\u8abf\u3079\u308b"
     ]
    },
    {
     "cell_type": "code",
     "collapsed": false,
     "input": [
      "def ex4():\n",
      "    df = nsfg.ReadFemPreg()\n",
      "    first = df[df.birthord == 1]\n",
      "    others = df[df.birthord > 1]\n",
      "    hist1 = thinkstats2.Hist(first.totalwgt_lb, label='first')\n",
      "    hist2 = thinkstats2.Hist(others.totalwgt_lb, label='others')\n",
      "    \n",
      "    print(\"First babies average weights: \" + str(first.totalwgt_lb.mean()) + \" pounds\")\n",
      "    print(\"Other babies average weights: \" + str(others.totalwgt_lb.mean()) + \" pounds\")\n",
      "    print(\"Cohen's d: \" + str(CohenEffectSize(others.totalwgt_lb, first.totalwgt_lb)))\n",
      "\n",
      "\n",
      "ex4()"
     ],
     "language": "python",
     "metadata": {},
     "outputs": [
      {
       "output_type": "stream",
       "stream": "stdout",
       "text": [
        "First babies average weights: 7.20109443044 pounds\n",
        "Other babies average weights: 7.32585561497 pounds\n",
        "Cohen's d: 0.0886729270726\n"
       ]
      }
     ],
     "prompt_number": 15
    },
    {
     "cell_type": "code",
     "collapsed": false,
     "input": [],
     "language": "python",
     "metadata": {},
     "outputs": []
    }
   ],
   "metadata": {}
  }
 ]
}