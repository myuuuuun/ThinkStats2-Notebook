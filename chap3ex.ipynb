{
 "metadata": {
  "name": "",
  "signature": "sha256:5266120e1343278cb6cd2ffcdf8ed986d52f2c948dd94b135b1af0ec9aadab48"
 },
 "nbformat": 3,
 "nbformat_minor": 0,
 "worksheets": [
  {
   "cells": [
    {
     "cell_type": "markdown",
     "metadata": {},
     "source": [
      "# ThinkStat2  Chapter2  Exercise\u306e\u30b5\u30f3\u30d7\u30eb\u30b3\u30fc\u30c9\u3000\u5b9f\u884c\u4f8b\n",
      "\n",
      "\n",
      "## \u30e2\u30b8\u30e5\u30fc\u30eb\u985e\u306e\u30a4\u30f3\u30dd\u30fc\u30c8"
     ]
    },
    {
     "cell_type": "code",
     "collapsed": false,
     "input": [
      "#!/usr/bin/python\n",
      "#-*- encoding: utf-8 -*-\n",
      "\"\"\"\n",
      "Sample Codes for ThinkStats2 - Chapter3\n",
      "\n",
      "Copyright 2015 @myuuuuun\n",
      "URL: https://github.com/myuuuuun/ThinkStats2-Notebook\n",
      "License: GNU GPLv3 http://www.gnu.org/licenses/gpl.html\n",
      "\"\"\"\n",
      "%matplotlib inline\n",
      "from __future__ import division, print_function\n",
      "import sys\n",
      "sys.path.append('./code')\n",
      "sys.path.append('../')\n",
      "import pandas as pd\n",
      "import nsfg\n",
      "import relay\n",
      "import custom_functions as cf\n",
      "import sys\n",
      "import math\n",
      "import numpy as np\n",
      "import thinkstats2\n",
      "import thinkplot"
     ],
     "language": "python",
     "metadata": {},
     "outputs": [],
     "prompt_number": 1
    },
    {
     "cell_type": "markdown",
     "metadata": {},
     "source": [
      "## Exercise1\n",
      "\n",
      "1\u5bb6\u5ead\u3042\u305f\u308a\u306e\u5b50\u3069\u3082\u306e\u4eba\u6570\u306e\u5b9f\u969b\u306e\u5206\u5e03\u3068\u3001\u5b50\u3069\u3082\u306b\u30a2\u30f3\u30b1\u30fc\u30c8\u3092\u53d6\u3063\u3066\u805e\u3044\u305f\u6642\u306e\u5206\u5e03\u306e\u9055\u3044\u3092\u8abf\u3079\u308b"
     ]
    },
    {
     "cell_type": "code",
     "collapsed": false,
     "input": [
      "# \u5b9f\u969b\u306e1\u5bb6\u65cf\u3042\u305f\u308a\u306e\u5b50\u4f9b\u306e\u4eba\u6570\u306e\u5206\u5e03\u3092\u6c42\u3081\u308b\n",
      "def Pmf(data):\n",
      "    pmf = thinkstats2.Pmf(data, label='actual pmf')\n",
      "    return pmf\n",
      "\n",
      "\n",
      "# \u9069\u5f53\u306a\u5b50\u3069\u3082\u306b\u5bfe\u3057\u3066\u305d\u306e\u5bb6\u5ead\u306e\u5b50\u3069\u3082\u306e\u4eba\u6570\u3092\u805e\u3044\u305f\u6642\u306b\u51fa\u3066\u304f\u308b\u3001\u30d0\u30a4\u30a2\u30b9\u306e\u304b\u304b\u3063\u305f\u5b50\u4f9b\u306e\u4eba\u6570\u306e\u5206\u5e03\u3092\u6c42\u3081\u308b\n",
      "def BiasedPmf(data):\n",
      "    pmf = Pmf(data)\n",
      "    new_pmf = pmf.Copy(label='biased pmf')\n",
      "\n",
      "    for x, p in pmf.Items():\n",
      "        new_pmf.Mult(x, x)\n",
      "        \n",
      "    new_pmf.Normalize()\n",
      "    return new_pmf\n",
      "\n",
      "\n",
      "# pmf\u3092\u4e0e\u3048\u3066\u3001\u5e73\u5747\u3092\u8fd4\u3059\n",
      "def PmfMean(pmf):\n",
      "    pmf.Normalize()\n",
      "    average = sum([prob * value for value, prob in pmf.Items()])\n",
      "\n",
      "    return average"
     ],
     "language": "python",
     "metadata": {},
     "outputs": [],
     "prompt_number": 2
    },
    {
     "cell_type": "code",
     "collapsed": false,
     "input": [
      "# \u5206\u5e03\u3092\u6bd4\u8f03\n",
      "df = cf.ReadFemResp()\n",
      "numkdhh = df.numkdhh\n",
      "actual_pmf = Pmf(numkdhh)\n",
      "biased_pmf = BiasedPmf(numkdhh)\n",
      "thinkplot.PrePlot(2)\n",
      "thinkplot.Pmfs([actual_pmf, biased_pmf])\n",
      "thinkplot.Show(xlabel='class size', ylabel='PMF')"
     ],
     "language": "python",
     "metadata": {},
     "outputs": [
      {
       "metadata": {},
       "output_type": "display_data",
       "png": "[encoded data removed]",
       "text": [
        "<matplotlib.figure.Figure at 0x10c316910>"
       ]
      },
      {
       "metadata": {},
       "output_type": "display_data",
       "text": [
        "<matplotlib.figure.Figure at 0x10c3167d0>"
       ]
      }
     ],
     "prompt_number": 3
    },
    {
     "cell_type": "code",
     "collapsed": false,
     "input": [
      "# \u5e73\u5747\u3092\u6bd4\u8f03\n",
      "print(\"Actual average: \", PmfMean(actual_pmf))\n",
      "print(\"Biased average: \", PmfMean(biased_pmf))"
     ],
     "language": "python",
     "metadata": {},
     "outputs": [
      {
       "output_type": "stream",
       "stream": "stdout",
       "text": [
        "Actual average:  1.02420515504\n",
        "Biased average:  2.40367910066\n"
       ]
      }
     ],
     "prompt_number": 4
    },
    {
     "cell_type": "markdown",
     "metadata": {},
     "source": [
      "## Exercise2\n",
      "\n",
      "pmf\u3092\u5f15\u6570\u306b\u3068\u3063\u3066\u5e73\u5747\u3068\u5206\u6563\u3092\u8fd4\u3059\u95a2\u6570\u3092\u4f5c\u308b"
     ]
    },
    {
     "cell_type": "code",
     "collapsed": false,
     "input": [
      "# pmf\u3092\u4e0e\u3048\u3066\u3001\u5e73\u5747\u3092\u8fd4\u3059\n",
      "def PmfMean(pmf):\n",
      "    pmf.Normalize()\n",
      "    average = sum([prob * value for value, prob in pmf.Items()])\n",
      "\n",
      "    return average\n",
      "\n",
      "\n",
      "# pmf\u3092\u4e0e\u3048\u3066\u3001\u5206\u6563\u3092\u8fd4\u3059\n",
      "def PmfVar(pmf):\n",
      "    pmf.Normalize()\n",
      "    average = PmfMean(pmf)\n",
      "    variance = sum([prob * pow(value - average, 2) for value, prob in pmf.Items()])\n",
      "    return variance"
     ],
     "language": "python",
     "metadata": {},
     "outputs": [],
     "prompt_number": 5
    },
    {
     "cell_type": "markdown",
     "metadata": {},
     "source": [
      "thinkstats2\u30e2\u30b8\u30e5\u30fc\u30eb\u306b\u5165\u3063\u3066\u3044\u308b\u30e1\u30bd\u30c3\u30c9\u5024\u304c\u4e00\u81f4\u3057\u3066\u3044\u308b\u304b\u8abf\u3079\u308b"
     ]
    },
    {
     "cell_type": "code",
     "collapsed": false,
     "input": [
      "df = cf.ReadFemResp()\n",
      "numkdhh = df.numkdhh\n",
      "pmf = Pmf(numkdhh)\n",
      "print(\"Average(by my func): \", PmfMean(pmf))\n",
      "print(\"Average(by method): \", pmf.Mean())\n",
      "print(\"Variance(by my func): \", PmfVar(pmf))\n",
      "print(\"Variance(by method): \", pmf.Var())"
     ],
     "language": "python",
     "metadata": {},
     "outputs": [
      {
       "output_type": "stream",
       "stream": "stdout",
       "text": [
        "Average(by my func):  1.02420515504\n",
        "Average(by method):  1.02420515504\n",
        "Variance(by my func):  1.41286432635\n",
        "Variance(by method):  1.41286432635\n"
       ]
      }
     ],
     "prompt_number": 6
    },
    {
     "cell_type": "markdown",
     "metadata": {},
     "source": [
      "## Exercise3\n",
      "\n",
      "\u6700\u521d\u306e\u8d64\u3061\u3083\u3093\u3068\u305d\u308c\u4ee5\u964d\u306e\u8d64\u3061\u3083\u3093\u306e\u598a\u5a20\u671f\u9593\u306b\u5dee\u304c\u3042\u308b\u304b\u30012\u4eba\u4ee5\u4e0a\u598a\u5a20\u3057\u3066\u3044\u308b\u4eba\u3060\u3051\u3092\u6bd4\u8f03\u3057\u3066\u8abf\u3079\u308b\u3002\n",
      "caseid\u304b\u30892\u4eba\u4ee5\u4e0a\u51fa\u7523\u3057\u3066\u3044\u308b\u4eba\u3092\u8abf\u3079\u3001\u6700\u521d\u306e\u8d64\u3061\u3083\u3093\u3068\u305d\u308c\u4ee5\u5916\u306e\u8d64\u3061\u3083\u3093\u306e\u598a\u5a20\u671f\u9593\u306b\u5dee\u304c\u3042\u308b\u304b\u8abf\u3079\u308c\u3070\u3088\u3044\u3002\n",
      "http://www.icpsr.umich.edu/nsfg6/Controller?displayPage=labelDetails&fileCode=PREG&section=A&subSec=8016&srtLabel=611933"
     ]
    },
    {
     "cell_type": "code",
     "collapsed": false,
     "input": [
      "def ex3():\n",
      "    df = nsfg.ReadFemPreg()\n",
      "    birthord = df['birthord']\n",
      "    prglngth = df['prglngth']\n",
      "\n",
      "    # {caseid: [index, index,...]}\u3068\u3044\u3046\u8f9e\u66f8\u306b\u5909\u63db\n",
      "    pregmap = nsfg.MakePregMap(df)\n",
      "    weeks_first = []\n",
      "    weeks_others = []\n",
      "\n",
      "    for caseid, pregs in pregmap.items():\n",
      "        # birthord\u304cnan\u306e\u30b1\u30fc\u30b9\u3092\u9664\u3044\u3066\u3001{birthord: index}\u3068\u3044\u3046\u8f9e\u66f8\u3092\u4f5c\u308b\n",
      "        live_pregs = {int(birthord.loc[preg]): preg for preg in pregs if not math.isnan(birthord.loc[preg])}\n",
      "\n",
      "        if len(live_pregs) > 1:\n",
      "            for order, preg_index in live_pregs.items():\n",
      "                if order == 1:\n",
      "                    weeks_first.append(prglngth.loc[preg_index])\n",
      "                else:\n",
      "                    weeks_others.append(prglngth.loc[preg_index])\n",
      "\n",
      "    \n",
      "    return  weeks_first, weeks_others\n",
      "\n",
      "\n",
      "weeks_first, weeks_others = ex3()\n",
      "first = sum(weeks_first) / len(weeks_first)\n",
      "others = sum(weeks_others) / len(weeks_others)\n",
      "\n",
      "print(\"1\u4eba\u76ee\u306e\u598a\u5a20\u671f\u9593\u306e\u5e73\u5747\u306f: \", first, \"weeks\")\n",
      "print(\"\u4ed6\u306e\u598a\u5a20\u671f\u9593\u306e\u5e73\u5747\u306f: \", others, \"weeks\")\n",
      "print(\"Cohen\u306ed\u306f: \", cf.CohenEffectSize(np.array(weeks_first), np.array(weeks_others)))"
     ],
     "language": "python",
     "metadata": {},
     "outputs": [
      {
       "output_type": "stream",
       "stream": "stdout",
       "text": [
        "1\u4eba\u76ee\u306e\u598a\u5a20\u671f\u9593\u306e\u5e73\u5747\u306f:  38.6228253305 weeks\n",
        "\u4ed6\u306e\u598a\u5a20\u671f\u9593\u306e\u5e73\u5747\u306f:  38.5229144667 weeks\n",
        "Cohen\u306ed\u306f:  0.0373514829544\n"
       ]
      }
     ],
     "prompt_number": 7
    },
    {
     "cell_type": "markdown",
     "metadata": {},
     "source": [
      "# Exercise4\n",
      "\n",
      "\u30ea\u30ec\u30fc\u5927\u4f1a\u3067\u3001\u9078\u624b\u5168\u54e1\u306e\u901f\u5ea6\u3068\u3001\u81ea\u5206\u304c7.5mph\u3067\u8d70\u3063\u305f\u6642\u306b\u3059\u308c\u9055\u3046\u9078\u624b\u306e\u901f\u5ea6\u306e\u5206\u5e03\u306e\u9055\u3044\u3092plot"
     ]
    },
    {
     "cell_type": "code",
     "collapsed": false,
     "input": [
      "def ObservedPmf(pmf, speed):\n",
      "    new_pmf = pmf.Copy(label='observed pmf')\n",
      "    average = pmf.Mean()\n",
      "\n",
      "    for speed, prob in pmf.Items():\n",
      "        new_pmf.Mult(speed, speed * math.fabs(speed - average))\n",
      "        \n",
      "    new_pmf.Normalize()\n",
      "    return new_pmf\n",
      "\n",
      "\n",
      "def ex4():\n",
      "    pmf = relay.pmf()\n",
      "    observed = ObservedPmf(pmf, 7.5)\n",
      "    thinkplot.PrePlot(2)\n",
      "    thinkplot.Pmfs([pmf, observed])\n",
      "    thinkplot.Show(title='PMF of running speed',\n",
      "                   xlabel='speed (mph)',\n",
      "                   ylabel='probability')\n",
      "\n",
      "\n",
      "ex4()"
     ],
     "language": "python",
     "metadata": {},
     "outputs": [
      {
       "metadata": {},
       "output_type": "display_data",
       "png": "[encoded data removed]",
       "text": [
        "<matplotlib.figure.Figure at 0x106d995d0>"
       ]
      },
      {
       "metadata": {},
       "output_type": "display_data",
       "text": [
        "<matplotlib.figure.Figure at 0x10d533690>"
       ]
      }
     ],
     "prompt_number": 8
    },
    {
     "cell_type": "code",
     "collapsed": false,
     "input": [],
     "language": "python",
     "metadata": {},
     "outputs": []
    }
   ],
   "metadata": {}
  }
 ]
}