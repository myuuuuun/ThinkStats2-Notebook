{
 "cells": [
  {
   "cell_type": "markdown",
   "metadata": {},
   "source": [
    "# ThinkStat2  Chapter2  Exerciseのサンプルコード　実行例\n",
    "\n",
    "\n",
    "## モジュール類のインポート"
   ]
  },
  {
   "cell_type": "code",
   "execution_count": 2,
   "metadata": {
    "collapsed": false
   },
   "outputs": [],
   "source": [
    "#!/usr/bin/python\n",
    "#-*- encoding: utf-8 -*-\n",
    "\"\"\"\n",
    "Sample Codes for ThinkStats2 - Chapter3\n",
    "\n",
    "Copyright 2015 @myuuuuun\n",
    "URL: https://github.com/myuuuuun/ThinkStats2-Notebook\n",
    "License: GNU GPLv3 http://www.gnu.org/licenses/gpl.html\n",
    "\"\"\"\n",
    "%matplotlib inline\n",
    "from __future__ import division, print_function\n",
    "import sys\n",
    "sys.path.append('./code')\n",
    "sys.path.append('../')\n",
    "import pandas as pd\n",
    "import nsfg\n",
    "import relay\n",
    "import custom_functions as cf\n",
    "import sys\n",
    "import math\n",
    "import numpy as np\n",
    "import thinkstats2\n",
    "import thinkplot"
   ]
  },
  {
   "cell_type": "markdown",
   "metadata": {},
   "source": [
    "## Exercise1\n",
    "\n",
    "1家庭あたりの子どもの人数の実際の分布と、子どもにアンケートを取って聞いた時の分布の違いを調べる"
   ]
  },
  {
   "cell_type": "code",
   "execution_count": 2,
   "metadata": {
    "collapsed": false
   },
   "outputs": [],
   "source": [
    "# 実際の1家族あたりの子供の人数の分布を求める\n",
    "def Pmf(data):\n",
    "    pmf = thinkstats2.Pmf(data, label='actual pmf')\n",
    "    return pmf\n",
    "\n",
    "\n",
    "# 適当な子どもに対してその家庭の子どもの人数を聞いた時に出てくる、バイアスのかかった子供の人数の分布を求める\n",
    "def BiasedPmf(data):\n",
    "    pmf = Pmf(data)\n",
    "    new_pmf = pmf.Copy(label='biased pmf')\n",
    "\n",
    "    for x, p in pmf.Items():\n",
    "        new_pmf.Mult(x, x)\n",
    "        \n",
    "    new_pmf.Normalize()\n",
    "    return new_pmf\n",
    "\n",
    "\n",
    "# pmfを与えて、平均を返す\n",
    "def PmfMean(pmf):\n",
    "    pmf.Normalize()\n",
    "    average = sum([prob * value for value, prob in pmf.Items()])\n",
    "\n",
    "    return average"
   ]
  },
  {
   "cell_type": "code",
   "execution_count": 3,
   "metadata": {
    "collapsed": false
   },
   "outputs": [
    {
     "data": {
      "image/png": "[encoded data removed]",
      "text/plain": [
       "<matplotlib.figure.Figure at 0x10c316910>"
      ]
     },
     "metadata": {},
     "output_type": "display_data"
    },
    {
     "data": {
      "text/plain": [
       "<matplotlib.figure.Figure at 0x10c3167d0>"
      ]
     },
     "metadata": {},
     "output_type": "display_data"
    }
   ],
   "source": [
    "# 分布を比較\n",
    "df = cf.ReadFemResp()\n",
    "numkdhh = df.numkdhh\n",
    "actual_pmf = Pmf(numkdhh)\n",
    "biased_pmf = BiasedPmf(numkdhh)\n",
    "thinkplot.PrePlot(2)\n",
    "thinkplot.Pmfs([actual_pmf, biased_pmf])\n",
    "thinkplot.Show(xlabel='class size', ylabel='PMF')"
   ]
  },
  {
   "cell_type": "code",
   "execution_count": 4,
   "metadata": {
    "collapsed": false
   },
   "outputs": [
    {
     "name": "stdout",
     "output_type": "stream",
     "text": [
      "Actual average:  1.02420515504\n",
      "Biased average:  2.40367910066\n"
     ]
    }
   ],
   "source": [
    "# 平均を比較\n",
    "print(\"Actual average: \", PmfMean(actual_pmf))\n",
    "print(\"Biased average: \", PmfMean(biased_pmf))"
   ]
  },
  {
   "cell_type": "markdown",
   "metadata": {},
   "source": [
    "## Exercise2\n",
    "\n",
    "pmfを引数にとって平均と分散を返す関数を作る"
   ]
  },
  {
   "cell_type": "code",
   "execution_count": 5,
   "metadata": {
    "collapsed": false
   },
   "outputs": [],
   "source": [
    "# pmfを与えて、平均を返す\n",
    "def PmfMean(pmf):\n",
    "    pmf.Normalize()\n",
    "    average = sum([prob * value for value, prob in pmf.Items()])\n",
    "\n",
    "    return average\n",
    "\n",
    "\n",
    "# pmfを与えて、分散を返す\n",
    "def PmfVar(pmf):\n",
    "    pmf.Normalize()\n",
    "    average = PmfMean(pmf)\n",
    "    \n",
    "    # これは効率が悪い\n",
    "    #variance = sum([prob * pow(value - average, 2) for value, prob in pmf.Items()])\n",
    "\n",
    "    # こっちの方がいい\n",
    "    # Var(x) = E[x^2] - (E[x])^2 を利用\n",
    "    \n",
    "    variance = sum([prob * pow(value, 2)]) - pow(average, 2)\n",
    "    return variance"
   ]
  },
  {
   "cell_type": "markdown",
   "metadata": {},
   "source": [
    "thinkstats2モジュールに入っているメソッド値が一致しているか調べる"
   ]
  },
  {
   "cell_type": "code",
   "execution_count": 6,
   "metadata": {
    "collapsed": false
   },
   "outputs": [
    {
     "name": "stdout",
     "output_type": "stream",
     "text": [
      "Average(by my func):  1.02420515504\n",
      "Average(by method):  1.02420515504\n",
      "Variance(by my func):  1.41286432635\n",
      "Variance(by method):  1.41286432635\n"
     ]
    }
   ],
   "source": [
    "df = cf.ReadFemResp()\n",
    "numkdhh = df.numkdhh\n",
    "pmf = Pmf(numkdhh)\n",
    "print(\"Average(by my func): \", PmfMean(pmf))\n",
    "print(\"Average(by method): \", pmf.Mean())\n",
    "print(\"Variance(by my func): \", PmfVar(pmf))\n",
    "print(\"Variance(by method): \", pmf.Var())"
   ]
  },
  {
   "cell_type": "markdown",
   "metadata": {},
   "source": [
    "## Exercise3\n",
    "\n",
    "最初の赤ちゃんとそれ以降の赤ちゃんの妊娠期間に差があるか、2人以上妊娠している人だけを比較して調べる。\n",
    "caseidから2人以上出産している人を調べ、最初の赤ちゃんとそれ以外の赤ちゃんの妊娠期間に差があるか調べればよい。\n",
    "http://www.icpsr.umich.edu/nsfg6/Controller?displayPage=labelDetails&fileCode=PREG&section=A&subSec=8016&srtLabel=611933"
   ]
  },
  {
   "cell_type": "code",
   "execution_count": 7,
   "metadata": {
    "collapsed": false
   },
   "outputs": [
    {
     "name": "stdout",
     "output_type": "stream",
     "text": [
      "1人目の妊娠期間の平均は:  38.6228253305 weeks\n",
      "他の妊娠期間の平均は:  38.5229144667 weeks\n",
      "Cohenのdは:  0.0373514829544\n"
     ]
    }
   ],
   "source": [
    "def ex3():\n",
    "    df = nsfg.ReadFemPreg()\n",
    "    birthord = df['birthord']\n",
    "    prglngth = df['prglngth']\n",
    "\n",
    "    # {caseid: [index, index,...]}という辞書に変換\n",
    "    pregmap = nsfg.MakePregMap(df)\n",
    "    weeks_first = []\n",
    "    weeks_others = []\n",
    "\n",
    "    for caseid, pregs in pregmap.items():\n",
    "        # birthordがnanのケースを除いて、{birthord: index}という辞書を作る\n",
    "        live_pregs = {int(birthord.loc[preg]): preg for preg in pregs if not math.isnan(birthord.loc[preg])}\n",
    "\n",
    "        if len(live_pregs) > 1:\n",
    "            for order, preg_index in live_pregs.items():\n",
    "                if order == 1:\n",
    "                    weeks_first.append(prglngth.loc[preg_index])\n",
    "                else:\n",
    "                    weeks_others.append(prglngth.loc[preg_index])\n",
    "\n",
    "    \n",
    "    return  weeks_first, weeks_others\n",
    "\n",
    "\n",
    "weeks_first, weeks_others = ex3()\n",
    "first = sum(weeks_first) / len(weeks_first)\n",
    "others = sum(weeks_others) / len(weeks_others)\n",
    "\n",
    "print(\"1人目の妊娠期間の平均は: \", first, \"weeks\")\n",
    "print(\"他の妊娠期間の平均は: \", others, \"weeks\")\n",
    "print(\"Cohenのdは: \", cf.CohenEffectSize(np.array(weeks_first), np.array(weeks_others)))"
   ]
  },
  {
   "cell_type": "markdown",
   "metadata": {},
   "source": [
    "# Exercise4\n",
    "\n",
    "リレー大会で、選手全員の速度と、自分が7.5mphで走った時にすれ違う選手の速度の分布の違いをplot"
   ]
  },
  {
   "cell_type": "code",
   "execution_count": 5,
   "metadata": {
    "collapsed": false
   },
   "outputs": [
    {
     "name": "stdout",
     "output_type": "stream",
     "text": [
      "6.84135338346\n"
     ]
    },
    {
     "data": {
      "image/png": "[encoded data removed]",
      "text/plain": [
       "<matplotlib.figure.Figure at 0x10bb9a978>"
      ]
     },
     "metadata": {},
     "output_type": "display_data"
    },
    {
     "data": {
      "text/plain": [
       "<matplotlib.figure.Figure at 0x10bd1b208>"
      ]
     },
     "metadata": {},
     "output_type": "display_data"
    }
   ],
   "source": [
    "def ObservedPmf(pmf, myspeed):\n",
    "    new_pmf = pmf.Copy(label='observed pmf')\n",
    "    average = pmf.Mean()\n",
    "    print(average)\n",
    "\n",
    "    for speed, prob in pmf.Items():\n",
    "        new_pmf.Mult(speed, pow(myspeed - speed, 2))\n",
    "        \n",
    "    new_pmf.Normalize()\n",
    "    return new_pmf\n",
    "\n",
    "\n",
    "def ex4():\n",
    "    pmf = relay.pmf()\n",
    "    observed = ObservedPmf(pmf, 7.5)\n",
    "    thinkplot.PrePlot(2)\n",
    "    thinkplot.Pmfs([pmf, observed])\n",
    "    thinkplot.Show(title='PMF of running speed',\n",
    "                   xlabel='speed (mph)',\n",
    "                   ylabel='probability')\n",
    "\n",
    "\n",
    "ex4()"
   ]
  },
  {
   "cell_type": "code",
   "execution_count": null,
   "metadata": {
    "collapsed": false
   },
   "outputs": [],
   "source": []
  }
 ],
 "metadata": {
  "kernelspec": {
   "display_name": "Python 3",
   "language": "python",
   "name": "python3"
  },
  "language_info": {
   "codemirror_mode": {
    "name": "ipython",
    "version": 3
   },
   "file_extension": ".py",
   "mimetype": "text/x-python",
   "name": "python",
   "nbconvert_exporter": "python",
   "pygments_lexer": "ipython3",
   "version": "3.4.3"
  }
 },
 "nbformat": 4,
 "nbformat_minor": 0
}
