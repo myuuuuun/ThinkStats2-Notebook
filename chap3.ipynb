{
 "metadata": {
  "name": "",
  "signature": "sha256:0bb516d29a995e434a3a5c0058fbe22bab7cf5e2988c90f1d7e302d1a8c591d6"
 },
 "nbformat": 3,
 "nbformat_minor": 0,
 "worksheets": [
  {
   "cells": [
    {
     "cell_type": "markdown",
     "metadata": {},
     "source": [
      "# ThinkStats2 Chapter3\u306e\u5b66\u7fd2\u8a18\u9332\uff08\u30ce\u30fc\u30c8\uff09\n",
      "\n",
      "\n",
      "Exercise\u306e\u89e3\u7b54\u4f8b\u306f chap3ex.ipynb\u3002"
     ]
    },
    {
     "cell_type": "code",
     "collapsed": false,
     "input": [
      "#!/usr/bin/python\n",
      "#-*- encoding: utf-8 -*-\n",
      "\"\"\"\n",
      "Sample Codes for ThinkStats2 - Chapter3\n",
      "\n",
      "Copyright 2015 @myuuuuun\n",
      "URL: https://github.com/myuuuuun/ThinkStats2-Notebook\n",
      "License: GNU GPLv3 http://www.gnu.org/licenses/gpl.html\n",
      "\"\"\"\n",
      "\n",
      "%matplotlib inline\n",
      "from __future__ import division, print_function\n",
      "import sys\n",
      "sys.path.append('./code')\n",
      "import pandas as pd\n",
      "import nsfg\n",
      "import custom_functions as cf\n",
      "import sys\n",
      "import math\n",
      "import numpy as np\n",
      "import thinkstats2\n",
      "import thinkplot"
     ],
     "language": "python",
     "metadata": {},
     "outputs": [],
     "prompt_number": 26
    },
    {
     "cell_type": "markdown",
     "metadata": {},
     "source": [
      "## 3.1  Pmfs\uff08\u96e2\u6563\u78ba\u7387\u95a2\u6570\uff09"
     ]
    },
    {
     "cell_type": "markdown",
     "metadata": {},
     "source": [
      "Hist\u30aa\u30d6\u30b8\u30a7\u30af\u30c8\u306evalue\u304c\u78ba\u7387\u306b\u306a\u308b\u3088\u3046\u3001\u7dcf\u6570\u3067\u5272\u308b"
     ]
    },
    {
     "cell_type": "code",
     "collapsed": false,
     "input": [
      "hist = thinkstats2.Hist([1, 2, 2, 3, 5])\n",
      "n = hist.Total()\n",
      "d = {}\n",
      "for x, freq in hist.Items():\n",
      "    d[x] = freq / n\n",
      "\n",
      "print(d)"
     ],
     "language": "python",
     "metadata": {},
     "outputs": [
      {
       "output_type": "stream",
       "stream": "stdout",
       "text": [
        "{1: 0.2, 2: 0.4, 3: 0.2, 5: 0.2}\n"
       ]
      }
     ],
     "prompt_number": 5
    },
    {
     "cell_type": "markdown",
     "metadata": {},
     "source": [
      "Pmf\u30aa\u30d6\u30b8\u30a7\u30af\u30c8\u3092\u4f7f\u3048\u3070\u3001\u540c\u3058\u3053\u3068\u304c\u3067\u304d\u308b"
     ]
    },
    {
     "cell_type": "code",
     "collapsed": false,
     "input": [
      "pmf = thinkstats2.Pmf([1, 2, 2, 3, 5])\n",
      "\n",
      "print(pmf)"
     ],
     "language": "python",
     "metadata": {},
     "outputs": [
      {
       "output_type": "stream",
       "stream": "stdout",
       "text": [
        "Pmf({1: 0.2, 2: 0.4, 3: 0.2, 5: 0.2})\n"
       ]
      }
     ],
     "prompt_number": 6
    },
    {
     "cell_type": "markdown",
     "metadata": {},
     "source": [
      "\u4f8b\u3048\u3070\u3001\u5b9f\u73fe\u5024\u304c\"2\"\u3068\u306a\u308b\u78ba\u7387\u3001\"5\"\u3068\u306a\u308b\u78ba\u7387\u3001\"4\"\u3068\u306a\u308b\u78ba\u7387\u306f"
     ]
    },
    {
     "cell_type": "code",
     "collapsed": false,
     "input": [
      "print(pmf.Prob(2))\n",
      "print(pmf.Prob(5))\n",
      "print(pmf.Prob(4))"
     ],
     "language": "python",
     "metadata": {},
     "outputs": [
      {
       "output_type": "stream",
       "stream": "stdout",
       "text": [
        "0.4\n",
        "0.2\n",
        "0\n"
       ]
      }
     ],
     "prompt_number": 8
    },
    {
     "cell_type": "markdown",
     "metadata": {},
     "source": [
      "\u6b21\u306b\u3001pmf\u306e\u3042\u308bkey\u306e\u3092\u3068\u308b\u78ba\u7387\u3092\u5909\u66f4\u3057\u3066\u307f\u308b\u3002\u4f8b\u3048\u3070\u3001\"2\"\u3092\u3068\u308b\u78ba\u7387\u30920.2\u5897\u3084\u3059\u3068\u3001"
     ]
    },
    {
     "cell_type": "code",
     "collapsed": false,
     "input": [
      "pmf.Incr(2, 0.2)\n",
      "print(pmf.Prob(2))"
     ],
     "language": "python",
     "metadata": {},
     "outputs": [
      {
       "output_type": "stream",
       "stream": "stdout",
       "text": [
        "0.6\n"
       ]
      }
     ],
     "prompt_number": 9
    },
    {
     "cell_type": "markdown",
     "metadata": {},
     "source": [
      "\u3053\u306e\u3088\u3046\u306b0.6\u306b\u306a\u308b\u3002\u3057\u304b\u3057\u3001\u3053\u308c\u3067\u306f\u5168\u78ba\u7387\u306f1\u306b\u306a\u3063\u3066\u3044\u306a\u3044\u3002\u5b9f\u969b"
     ]
    },
    {
     "cell_type": "code",
     "collapsed": false,
     "input": [
      "print(pmf)\n",
      "print(pmf.Total())"
     ],
     "language": "python",
     "metadata": {},
     "outputs": [
      {
       "output_type": "stream",
       "stream": "stdout",
       "text": [
        "Pmf({1: 0.2, 2: 0.6000000000000001, 3: 0.2, 5: 0.2})\n",
        "1.2\n"
       ]
      }
     ],
     "prompt_number": 12
    },
    {
     "cell_type": "markdown",
     "metadata": {},
     "source": [
      "\u3068\u306a\u3063\u3066\u3001\u5168\u78ba\u7387\u304c1.2\u306b\u306a\u3063\u3066\u3057\u307e\u3063\u3066\u3044\u308b\u3002\u305d\u3053\u3067\u3001\u5168\u78ba\u7387\u30921\u306b\u306a\u304a\u3057\u3066\u307f\u308b\u3002"
     ]
    },
    {
     "cell_type": "code",
     "collapsed": false,
     "input": [
      "pmf.Normalize()\n",
      "print(pmf)\n",
      "print(pmf.Total())"
     ],
     "language": "python",
     "metadata": {},
     "outputs": [
      {
       "output_type": "stream",
       "stream": "stdout",
       "text": [
        "Pmf({1: 0.16666666666666666, 2: 0.5, 3: 0.16666666666666666, 5: 0.16666666666666666})\n",
        "1.0\n"
       ]
      }
     ],
     "prompt_number": 14
    },
    {
     "cell_type": "markdown",
     "metadata": {},
     "source": [
      "\u3068\u3059\u308b\u3068\u3001\u5168\u78ba\u7387\u30921\u306b\u6a19\u6e96\u5316\u3057\u3066\u304f\u308c\u308b\u3002"
     ]
    },
    {
     "cell_type": "markdown",
     "metadata": {},
     "source": [
      "\u78ba\u7387\u3092\u5909\u66f4\u3059\u308b\u65b9\u6cd5\u306f\u4ed6\u306b\u3082\u3001\u3042\u308b\u5024\u3092\u53d6\u308b\u78ba\u7387\u3092n\u500d\u3059\u308bMult\u3084\u3001"
     ]
    },
    {
     "cell_type": "code",
     "collapsed": false,
     "input": [
      "pmf = thinkstats2.Pmf([1, 2, 2, 3, 5])\n",
      "print(pmf)\n",
      "pmf.Mult(2, 0.5)\n",
      "print(pmf)\n",
      "pmf.Normalize()\n",
      "print(pmf)"
     ],
     "language": "python",
     "metadata": {},
     "outputs": [
      {
       "output_type": "stream",
       "stream": "stdout",
       "text": [
        "Pmf({1: 0.2, 2: 0.4, 3: 0.2, 5: 0.2})\n",
        "Pmf({1: 0.2, 2: 0.2, 3: 0.2, 5: 0.2})\n",
        "Pmf({1: 0.25, 2: 0.25, 3: 0.25, 5: 0.25})\n"
       ]
      }
     ],
     "prompt_number": 16
    },
    {
     "cell_type": "markdown",
     "metadata": {},
     "source": [
      "\u5358\u7d14\u306b\u66f8\u304d\u63db\u3048\u308b\u65b9\u6cd5"
     ]
    },
    {
     "cell_type": "code",
     "collapsed": false,
     "input": [
      "pmf[2] = 0.2\n",
      "print(pmf)\n",
      "pmf.Normalize()\n",
      "print(pmf)"
     ],
     "language": "python",
     "metadata": {},
     "outputs": [
      {
       "output_type": "stream",
       "stream": "stdout",
       "text": [
        "Pmf({1: 0.25, 2: 0.2, 3: 0.25, 5: 0.25})\n",
        "Pmf({1: 0.2631578947368421, 2: 0.21052631578947367, 3: 0.2631578947368421, 5: 0.2631578947368421})\n"
       ]
      }
     ],
     "prompt_number": 18
    },
    {
     "cell_type": "markdown",
     "metadata": {},
     "source": [
      "\u3082\u3042\u308b\u3002"
     ]
    },
    {
     "cell_type": "markdown",
     "metadata": {},
     "source": [
      "## 3.2  Plotting PMFs"
     ]
    },
    {
     "cell_type": "markdown",
     "metadata": {},
     "source": [
      "\u68d2\u30b0\u30e9\u30d5\u3092\u6a2a\u306b\u4e26\u3079\u305f\u308a\u91cd\u306d\u305f\u308a\u3057\u3066\u3001Pmf\u306e\u69d8\u5b50\u3092\u30d7\u30ed\u30c3\u30c8"
     ]
    },
    {
     "cell_type": "code",
     "collapsed": false,
     "input": [
      "df = nsfg.ReadFemPreg()\n",
      "live = df[df.outcome == 1]\n",
      "firsts = live[df.birthord == 1]\n",
      "others = live[df.birthord > 1]\n",
      "weeks_f = firsts['prglngth']\n",
      "weeks_o = others['prglngth']\n",
      "first_pmf = thinkstats2.Pmf(weeks_f)\n",
      "other_pmf = thinkstats2.Pmf(weeks_o)\n",
      "\n",
      "width = 0.45\n",
      "\n",
      "# \u6a2a\u4e26\u3079\n",
      "thinkplot.PrePlot(2, cols=2) # \u30b0\u30e9\u30d5\u30922\u3064\u6a2a\u306b\u4e26\u3079\u308b\n",
      "thinkplot.Hist(first_pmf, align='right', width=width)\n",
      "thinkplot.Hist(other_pmf, align='left', width=width)\n",
      "thinkplot.Config(xlabel='weeks', ylabel='probability', axis=[27, 46, 0, 0.6])\n",
      "\n",
      "# \u91cd\u306d\u308b\n",
      "thinkplot.PrePlot(2)\n",
      "thinkplot.SubPlot(2)\n",
      "thinkplot.Pmfs([first_pmf, other_pmf])\n",
      "\n",
      "thinkplot.Show(xlabel='weeks', axis=[27, 46, 0, 0.6])"
     ],
     "language": "python",
     "metadata": {},
     "outputs": [
      {
       "metadata": {},
       "output_type": "display_data",
       "png": "[encoded data removed]",
       "text": [
        "<matplotlib.figure.Figure at 0x116641850>"
       ]
      },
      {
       "metadata": {},
       "output_type": "display_data",
       "text": [
        "<matplotlib.figure.Figure at 0x1156fd910>"
       ]
      }
     ],
     "prompt_number": 39
    },
    {
     "cell_type": "markdown",
     "metadata": {},
     "source": [
      "## 3.3  Other visualizations\n",
      "\n",
      "\n",
      "\u3042\u308b\u9031\u306b\u304a\u3044\u3066\u30011\u4eba\u76ee\u306e\u8d64\u3061\u3083\u3093\u306e\u5360\u3081\u308b\u5272\u5408\u30682\u4eba\u76ee\u4ee5\u964d\u306e\u8d64\u3061\u3083\u3093\u306e\u5360\u3081\u308b\u5272\u5408\u306e\u9055\u3044\u3092\u30d7\u30ed\u30c3\u30c8"
     ]
    },
    {
     "cell_type": "code",
     "collapsed": false,
     "input": [
      "weeks = range(35, 46)\n",
      "diffs = []\n",
      "for week in weeks:\n",
      "    p1 = first_pmf.Prob(week)\n",
      "    p2 = other_pmf.Prob(week)\n",
      "    diff = 100 * (p1 - p2)\n",
      "    diffs.append(diff)\n",
      "\n",
      "thinkplot.Bar(weeks, diffs)\n",
      "thinkplot.Show(xlabel='weeks', ylabel='difference in percentage (firsts - others)')"
     ],
     "language": "python",
     "metadata": {},
     "outputs": [
      {
       "metadata": {},
       "output_type": "display_data",
       "png": "[encoded data removed]",
       "text": [
        "<matplotlib.figure.Figure at 0x10e7fff90>"
       ]
      },
      {
       "metadata": {},
       "output_type": "display_data",
       "text": [
        "<matplotlib.figure.Figure at 0x116805210>"
       ]
      }
     ],
     "prompt_number": 43
    },
    {
     "cell_type": "markdown",
     "metadata": {},
     "source": [
      "## 3.4  The class size paradox\n",
      "\n",
      "\u5927\u5b66\u3067\u3001\u751f\u5f92\u304c1\u4eba1\u3064\u6388\u696d\u3092\u3068\u3063\u3066\u3044\u308b\u3068\u3059\u308b\u3002  \n",
      "\u89b3\u6e2c\u8005\u306f\u3001\u6388\u696d\u53d7\u8b1b\u8005\u306e\u5e73\u5747\u4eba\u6570\u304c\u77e5\u308a\u305f\u3044\u3002  \n",
      "\u305d\u3053\u3067\u3001\u9069\u5f53\u306a\u751f\u5f92\u306b\u81ea\u5206\u306e\u53d7\u3051\u3066\u3044\u308b\u6388\u696d\u53d7\u8b1b\u8005\u4eba\u6570\u3092\u7b54\u3048\u3066\u3082\u3089\u3046\u30a2\u30f3\u30b1\u30fc\u30c8\u3092\u5b9f\u65bd\u3059\u308b\u3053\u3068\u3092\u8003\u3048\u308b\u3002  \n",
      "\n",
      "\u3068\u3053\u308d\u304c\u3001\u53d7\u8b1b\u8005\u6570\u306e\u591a\u3044\u6388\u696d\u306f\u3001\u30a2\u30f3\u30b1\u30fc\u30c8\u306b\u7b54\u3048\u308b\u4eba\u3082\u591a\u3044\u3068\u8003\u3048\u3089\u308c\u308b\u306e\u3067\u3001\u30a2\u30f3\u30b1\u30fc\u30c8\u7d50\u679c\u306b\u306f\uff08\u53d7\u8b1b\u8005\u6570\uff09\u500d\u306e\u30d0\u30a4\u30a2\u30b9\u304c\u304b\u304b\u3063\u3066\u3057\u307e\u3046(biased_pmf)\u3002  \n",
      "\u305d\u3053\u3067\u3001\u96c6\u3081\u305f\u56de\u7b54\u3092\u305d\u308c\u305e\u308c\uff08\u53d7\u8b1b\u8005\u6570\uff09\u3067\u5272\u3063\u305f\u3082\u306e\u3092\u771f\u306e\u78ba\u7387\u306e\u63a8\u5b9a\u5024\u3068\u3057\u3066\u7528\u3044\u308b\u306e\u304c\u826f\u3044\uff08unbiased_pmf\uff09"
     ]
    },
    {
     "cell_type": "markdown",
     "metadata": {},
     "source": [
      "\u5b9f\u969b\u306e\u53d7\u8b1b\u4eba\u6570\u306e\u5e73\u5747\u306f"
     ]
    },
    {
     "cell_type": "code",
     "collapsed": false,
     "input": [
      "d = { 7: 8, 12: 8, 17: 14, 22: 4, \n",
      "          27: 6, 32: 12, 37: 8, 42: 3, 47: 2 }\n",
      "\n",
      "pmf = thinkstats2.Pmf(d, label='actual')\n",
      "print('mean', pmf.Mean())"
     ],
     "language": "python",
     "metadata": {},
     "outputs": [
      {
       "output_type": "stream",
       "stream": "stdout",
       "text": [
        "mean 23.6923076923\n"
       ]
      }
     ],
     "prompt_number": 6
    },
    {
     "cell_type": "markdown",
     "metadata": {},
     "source": [
      "\u751f\u5f92\u306e\u4e2d\u304b\u3089\u30e9\u30f3\u30c0\u30e0\u30fb\u30b5\u30f3\u30d7\u30eb\u3092\u53d6\u3063\u305f\u5834\u5408\u306b\u60f3\u5b9a\u3055\u308c\u308b\u53d7\u8b1b\u4eba\u6570\u306e\u5206\u5e03\u3092\u6c42\u3081\u308b"
     ]
    },
    {
     "cell_type": "code",
     "collapsed": false,
     "input": [
      "def BiasPmf(pmf, label):\n",
      "    new_pmf = pmf.Copy(label=label)\n",
      "\n",
      "    for x, p in pmf.Items():\n",
      "        new_pmf.Mult(x, x)\n",
      "        \n",
      "    new_pmf.Normalize()\n",
      "    return new_pmf"
     ],
     "language": "python",
     "metadata": {},
     "outputs": [],
     "prompt_number": 7
    },
    {
     "cell_type": "markdown",
     "metadata": {},
     "source": [
      "\u30a2\u30f3\u30b1\u30fc\u30c8\u7d50\u679c\u3068\u5b9f\u969b\u306e\u53d7\u8b1b\u8005\u4eba\u6570\u306e\u5206\u5e03\u3092\u4e26\u3079\u3066\u63cf\u304f"
     ]
    },
    {
     "cell_type": "code",
     "collapsed": false,
     "input": [
      "biased_pmf = BiasPmf(pmf, label='observed')\n",
      "thinkplot.PrePlot(2)\n",
      "thinkplot.Pmfs([pmf, biased_pmf])\n",
      "thinkplot.Show(xlabel='class size', ylabel='PMF')"
     ],
     "language": "python",
     "metadata": {},
     "outputs": [
      {
       "metadata": {},
       "output_type": "display_data",
       "png": "[encoded data removed]",
       "text": [
        "<matplotlib.figure.Figure at 0x10bc47750>"
       ]
      },
      {
       "metadata": {},
       "output_type": "display_data",
       "text": [
        "<matplotlib.figure.Figure at 0x10bc476d0>"
       ]
      }
     ],
     "prompt_number": 19
    },
    {
     "cell_type": "markdown",
     "metadata": {},
     "source": [
      "\u30a2\u30f3\u30b1\u30fc\u30c8\u3067\u5f97\u305f\u89b3\u6e2c\u30c7\u30fc\u30bf\u304b\u3089\u3001\u30d0\u30a4\u30a2\u30b9\u3092\u4fee\u6b63\u3057\u305f\u5f8c\u306e\u53d7\u8b1b\u4eba\u6570\u306e\u63a8\u5b9a\u5024\u306e\u5206\u5e03\u3092\u6c42\u3081\u308b"
     ]
    },
    {
     "cell_type": "code",
     "collapsed": false,
     "input": [
      "def UnbiasPmf(pmf, label):\n",
      "    new_pmf = pmf.Copy(label=label)\n",
      "\n",
      "    for x, p in pmf.Items():\n",
      "        new_pmf.Mult(x, 1.0/x)\n",
      "        \n",
      "    new_pmf.Normalize()\n",
      "    return new_pmf"
     ],
     "language": "python",
     "metadata": {},
     "outputs": [],
     "prompt_number": 22
    },
    {
     "cell_type": "markdown",
     "metadata": {},
     "source": [
      "\u30a2\u30f3\u30b1\u30fc\u30c8\u7d50\u679c\u3068\u5b9f\u969b\u306e\u53d7\u8b1b\u8005\u4eba\u6570\u306e\u5206\u5e03\u3092\u4e26\u3079\u3066\u63cf\u304f"
     ]
    },
    {
     "cell_type": "code",
     "collapsed": false,
     "input": [
      "unbiased_pmf = UnbiasPmf(biased_pmf, label='inverted_observed')\n",
      "thinkplot.PrePlot(2)\n",
      "thinkplot.Pmfs([pmf, unbiased_pmf])\n",
      "thinkplot.Show(xlabel='class size', ylabel='PMF')"
     ],
     "language": "python",
     "metadata": {},
     "outputs": [
      {
       "metadata": {},
       "output_type": "display_data",
       "png": "[encoded data removed]",
       "text": [
        "<matplotlib.figure.Figure at 0x10bc05b10>"
       ]
      },
      {
       "metadata": {},
       "output_type": "display_data",
       "text": [
        "<matplotlib.figure.Figure at 0x10bc05f10>"
       ]
      }
     ],
     "prompt_number": 23
    },
    {
     "cell_type": "markdown",
     "metadata": {},
     "source": [
      "## 3.5  DataFrame indexing\n",
      "\n",
      "pandas\u306e\u30a4\u30f3\u30c7\u30c3\u30af\u30b9\u64cd\u4f5c\u3044\u308d\u3044\u308d"
     ]
    },
    {
     "cell_type": "markdown",
     "metadata": {},
     "source": [
      "\u9069\u5f53\u306b\u30c7\u30fc\u30bf\u30d5\u30ec\u30fc\u30e0\u3092\u4f5c\u308b"
     ]
    },
    {
     "cell_type": "code",
     "collapsed": false,
     "input": [
      "array = np.random.randn(4, 2)\n",
      "df = pd.DataFrame(array)\n",
      "\n",
      "print(df)"
     ],
     "language": "python",
     "metadata": {},
     "outputs": [
      {
       "output_type": "stream",
       "stream": "stdout",
       "text": [
        "          0         1\n",
        "0 -0.043833  1.409555\n",
        "1  0.668582 -1.233178\n",
        "2 -0.011795  2.834356\n",
        "3  0.203322 -1.003067\n"
       ]
      }
     ],
     "prompt_number": 28
    },
    {
     "cell_type": "markdown",
     "metadata": {},
     "source": [
      "\u5217\u306b\u540d\u524d\u3092\u3064\u3051\u308b\uff08\u5217\u306b\u3064\u3051\u305f\u540d\u524d\u3092index\u3068\u3044\u3046\uff09"
     ]
    },
    {
     "cell_type": "code",
     "collapsed": false,
     "input": [
      "columns = ['A', 'B']\n",
      "df = pd.DataFrame(array, columns=columns)\n",
      "\n",
      "print(df)"
     ],
     "language": "python",
     "metadata": {},
     "outputs": [
      {
       "output_type": "stream",
       "stream": "stdout",
       "text": [
        "          A         B\n",
        "0 -0.043833  1.409555\n",
        "1  0.668582 -1.233178\n",
        "2 -0.011795  2.834356\n",
        "3  0.203322 -1.003067\n"
       ]
      }
     ],
     "prompt_number": 30
    },
    {
     "cell_type": "markdown",
     "metadata": {},
     "source": [
      "\u884c\u306b\u540d\u524d\u3092\u3064\u3051\u308b\uff08\u884c\u306b\u4ed8\u3051\u305f\u540d\u524d\u3092label\u3068\u3044\u3046\uff09"
     ]
    },
    {
     "cell_type": "code",
     "collapsed": false,
     "input": [
      " index = ['a', 'b', 'c', 'd']\n",
      "df = pd.DataFrame(array, columns=columns, index=index)\n",
      "\n",
      "print(df)"
     ],
     "language": "python",
     "metadata": {},
     "outputs": [
      {
       "output_type": "stream",
       "stream": "stdout",
       "text": [
        "          A         B\n",
        "a -0.043833  1.409555\n",
        "b  0.668582 -1.233178\n",
        "c -0.011795  2.834356\n",
        "d  0.203322 -1.003067\n"
       ]
      }
     ],
     "prompt_number": 33
    },
    {
     "cell_type": "markdown",
     "metadata": {},
     "source": [
      "\u3042\u308b\u5217\u306e\u5024\u306f\u3001\u6b21\u306e\u3088\u3046\u306b\u3068\u308a\u51fa\u3059"
     ]
    },
    {
     "cell_type": "code",
     "collapsed": false,
     "input": [
      "print(df['A'])\n",
      "\n",
      "print(\"\\n or \\n\")\n",
      "\n",
      "print(df.A)"
     ],
     "language": "python",
     "metadata": {},
     "outputs": [
      {
       "output_type": "stream",
       "stream": "stdout",
       "text": [
        "a   -0.043833\n",
        "b    0.668582\n",
        "c   -0.011795\n",
        "d    0.203322\n",
        "Name: A, dtype: float64\n",
        "\n",
        " or \n",
        "\n",
        "a   -0.043833\n",
        "b    0.668582\n",
        "c   -0.011795\n",
        "d    0.203322\n",
        "Name: A, dtype: float64\n"
       ]
      }
     ],
     "prompt_number": 36
    },
    {
     "cell_type": "markdown",
     "metadata": {},
     "source": [
      "\u3042\u308b\u884c\u306e\u5024\u306f\u3001\u6b21\u306e\u3088\u3046\u306b\u3068\u308a\u51fa\u3059"
     ]
    },
    {
     "cell_type": "code",
     "collapsed": false,
     "input": [
      "print(df.loc['a'])\n",
      "\n",
      "print(\"\\n or \\n\")\n",
      "\n",
      "print(df.iloc[0]) # \u884c\u306b\u540d\u524d\u3092\u3064\u3051\u305f\u3042\u3068\u304b\u3089\u3001\u884c\u756a\u53f7\u3067\u884c\u3092\u3068\u308a\u51fa\u3059\u3053\u3068\u3082\u51fa\u6765\u308b"
     ],
     "language": "python",
     "metadata": {},
     "outputs": [
      {
       "output_type": "stream",
       "stream": "stdout",
       "text": [
        "A   -0.043833\n",
        "B    1.409555\n",
        "Name: a, dtype: float64\n",
        "\n",
        " or \n",
        "\n",
        "A   -0.043833\n",
        "B    1.409555\n",
        "Name: a, dtype: float64\n"
       ]
      }
     ],
     "prompt_number": 37
    },
    {
     "cell_type": "markdown",
     "metadata": {},
     "source": [
      "\u914d\u5217\u3067\u3068\u308a\u51fa\u3059\u884c\u306e\u30e9\u30d9\u30eb\u3092\u8907\u6570\u6307\u5b9a\u3059\u308b\u3053\u3068\u3082\u51fa\u6765\u308b"
     ]
    },
    {
     "cell_type": "code",
     "collapsed": false,
     "input": [
      "indices = ['a', 'c']\n",
      "print(df.loc[indices])\n",
      "\n",
      "print(df.loc[['a', 'c']]) # \u4e0a\u3068\u540c\u3058\u3053\u3068"
     ],
     "language": "python",
     "metadata": {},
     "outputs": [
      {
       "output_type": "stream",
       "stream": "stdout",
       "text": [
        "          A         B\n",
        "a -0.043833  1.409555\n",
        "c -0.011795  2.834356\n",
        "          A         B\n",
        "a -0.043833  1.409555\n",
        "c -0.011795  2.834356\n"
       ]
      }
     ],
     "prompt_number": 40
    },
    {
     "cell_type": "markdown",
     "metadata": {},
     "source": [
      "\u30b9\u30e9\u30a4\u30b9\u3082\u4f7f\u3048\u308b"
     ]
    },
    {
     "cell_type": "code",
     "collapsed": false,
     "input": [
      "print(df['a':'c'])"
     ],
     "language": "python",
     "metadata": {},
     "outputs": [
      {
       "output_type": "stream",
       "stream": "stdout",
       "text": [
        "          A         B\n",
        "a -0.043833  1.409555\n",
        "b  0.668582 -1.233178\n",
        "c -0.011795  2.834356\n"
       ]
      }
     ],
     "prompt_number": 41
    },
    {
     "cell_type": "markdown",
     "metadata": {},
     "source": [
      "\u30b9\u30e9\u30a4\u30b9\u3067\u306f\u6570\u5b57\u3082\u4f7f\u3048\u308b"
     ]
    },
    {
     "cell_type": "code",
     "collapsed": false,
     "input": [
      "print(df[0:2])"
     ],
     "language": "python",
     "metadata": {},
     "outputs": [
      {
       "output_type": "stream",
       "stream": "stdout",
       "text": [
        "          A         B\n",
        "a -0.043833  1.409555\n",
        "b  0.668582 -1.233178\n"
       ]
      }
     ],
     "prompt_number": 42
    },
    {
     "cell_type": "code",
     "collapsed": false,
     "input": [],
     "language": "python",
     "metadata": {},
     "outputs": []
    }
   ],
   "metadata": {}
  }
 ]
}