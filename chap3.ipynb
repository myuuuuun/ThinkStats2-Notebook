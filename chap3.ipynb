{
 "metadata": {
  "name": "",
  "signature": "sha256:d57765b37db5425f8e43c5da7520b73339a97097ad5f71a652fca7ca0c2c4a39"
 },
 "nbformat": 3,
 "nbformat_minor": 0,
 "worksheets": [
  {
   "cells": [
    {
     "cell_type": "markdown",
     "metadata": {},
     "source": [
      "# ThinkStats2 Chapter3\u306e\u5b66\u7fd2\u8a18\u9332\uff08\u30ce\u30fc\u30c8\uff09\n",
      "\n",
      "\n",
      "Exercise\u306e\u89e3\u7b54\u4f8b\u306f chap3ex.ipynb\u3002"
     ]
    },
    {
     "cell_type": "code",
     "collapsed": false,
     "input": [
      "#!/usr/bin/python\n",
      "#-*- encoding: utf-8 -*-\n",
      "\"\"\"\n",
      "Sample Codes for ThinkStats2 - Chapter3\n",
      "\n",
      "Copyright 2015 @myuuuuun\n",
      "URL: https://github.com/myuuuuun/ThinkStats2-Notebook\n",
      "License: GNU GPLv3 http://www.gnu.org/licenses/gpl.html\n",
      "\"\"\"\n",
      "\n",
      "%matplotlib inline\n",
      "from __future__ import division\n",
      "import sys\n",
      "sys.path.append('./code')\n",
      "import pandas as pd\n",
      "import nsfg\n",
      "import custom_functions as cf\n",
      "import sys\n",
      "import math\n",
      "import thinkstats2\n",
      "import thinkplot"
     ],
     "language": "python",
     "metadata": {},
     "outputs": [],
     "prompt_number": 4
    },
    {
     "cell_type": "markdown",
     "metadata": {},
     "source": [
      "## 3.1  Pmfs\uff08\u96e2\u6563\u78ba\u7387\u95a2\u6570\uff09"
     ]
    },
    {
     "cell_type": "markdown",
     "metadata": {},
     "source": [
      "Hist\u30aa\u30d6\u30b8\u30a7\u30af\u30c8\u306evalue\u304c\u78ba\u7387\u306b\u306a\u308b\u3088\u3046\u3001\u7dcf\u6570\u3067\u5272\u308b"
     ]
    },
    {
     "cell_type": "code",
     "collapsed": false,
     "input": [
      "hist = thinkstats2.Hist([1, 2, 2, 3, 5])\n",
      "n = hist.Total()\n",
      "d = {}\n",
      "for x, freq in hist.Items():\n",
      "    d[x] = freq / n\n",
      "\n",
      "print(d)"
     ],
     "language": "python",
     "metadata": {},
     "outputs": [
      {
       "output_type": "stream",
       "stream": "stdout",
       "text": [
        "{1: 0.2, 2: 0.4, 3: 0.2, 5: 0.2}\n"
       ]
      }
     ],
     "prompt_number": 5
    },
    {
     "cell_type": "markdown",
     "metadata": {},
     "source": [
      "Pmf\u30aa\u30d6\u30b8\u30a7\u30af\u30c8\u3092\u4f7f\u3048\u3070\u3001\u540c\u3058\u3053\u3068\u304c\u3067\u304d\u308b"
     ]
    },
    {
     "cell_type": "code",
     "collapsed": false,
     "input": [
      "pmf = thinkstats2.Pmf([1, 2, 2, 3, 5])\n",
      "\n",
      "print(pmf)"
     ],
     "language": "python",
     "metadata": {},
     "outputs": [
      {
       "output_type": "stream",
       "stream": "stdout",
       "text": [
        "Pmf({1: 0.2, 2: 0.4, 3: 0.2, 5: 0.2})\n"
       ]
      }
     ],
     "prompt_number": 6
    },
    {
     "cell_type": "markdown",
     "metadata": {},
     "source": [
      "\u4f8b\u3048\u3070\u3001\u5b9f\u73fe\u5024\u304c\"2\"\u3068\u306a\u308b\u78ba\u7387\u3001\"5\"\u3068\u306a\u308b\u78ba\u7387\u3001\"4\"\u3068\u306a\u308b\u78ba\u7387\u306f"
     ]
    },
    {
     "cell_type": "code",
     "collapsed": false,
     "input": [
      "print(pmf.Prob(2))\n",
      "print(pmf.Prob(5))\n",
      "print(pmf.Prob(4))"
     ],
     "language": "python",
     "metadata": {},
     "outputs": [
      {
       "output_type": "stream",
       "stream": "stdout",
       "text": [
        "0.4\n",
        "0.2\n",
        "0\n"
       ]
      }
     ],
     "prompt_number": 8
    },
    {
     "cell_type": "markdown",
     "metadata": {},
     "source": [
      "\u6b21\u306b\u3001pmf\u306e\u3042\u308bkey\u306e\u3092\u3068\u308b\u78ba\u7387\u3092\u5909\u66f4\u3057\u3066\u307f\u308b\u3002\u4f8b\u3048\u3070\u3001\"2\"\u3092\u3068\u308b\u78ba\u7387\u30920.2\u5897\u3084\u3059\u3068\u3001"
     ]
    },
    {
     "cell_type": "code",
     "collapsed": false,
     "input": [
      "pmf.Incr(2, 0.2)\n",
      "print(pmf.Prob(2))"
     ],
     "language": "python",
     "metadata": {},
     "outputs": [
      {
       "output_type": "stream",
       "stream": "stdout",
       "text": [
        "0.6\n"
       ]
      }
     ],
     "prompt_number": 9
    },
    {
     "cell_type": "markdown",
     "metadata": {},
     "source": [
      "\u3053\u306e\u3088\u3046\u306b0.6\u306b\u306a\u308b\u3002\u3057\u304b\u3057\u3001\u3053\u308c\u3067\u306f\u5168\u78ba\u7387\u306f1\u306b\u306a\u3063\u3066\u3044\u306a\u3044\u3002\u5b9f\u969b"
     ]
    },
    {
     "cell_type": "code",
     "collapsed": false,
     "input": [
      "print(pmf)\n",
      "print(pmf.Total())"
     ],
     "language": "python",
     "metadata": {},
     "outputs": [
      {
       "output_type": "stream",
       "stream": "stdout",
       "text": [
        "Pmf({1: 0.2, 2: 0.6000000000000001, 3: 0.2, 5: 0.2})\n",
        "1.2\n"
       ]
      }
     ],
     "prompt_number": 12
    },
    {
     "cell_type": "markdown",
     "metadata": {},
     "source": [
      "\u3068\u306a\u3063\u3066\u3001\u5168\u78ba\u7387\u304c1.2\u306b\u306a\u3063\u3066\u3057\u307e\u3063\u3066\u3044\u308b\u3002\u305d\u3053\u3067\u3001\u5168\u78ba\u7387\u30921\u306b\u306a\u304a\u3057\u3066\u307f\u308b\u3002"
     ]
    },
    {
     "cell_type": "code",
     "collapsed": false,
     "input": [
      "pmf.Normalize()\n",
      "print(pmf)\n",
      "print(pmf.Total())"
     ],
     "language": "python",
     "metadata": {},
     "outputs": [
      {
       "output_type": "stream",
       "stream": "stdout",
       "text": [
        "Pmf({1: 0.16666666666666666, 2: 0.5, 3: 0.16666666666666666, 5: 0.16666666666666666})\n",
        "1.0\n"
       ]
      }
     ],
     "prompt_number": 14
    },
    {
     "cell_type": "markdown",
     "metadata": {},
     "source": [
      "\u3068\u3059\u308b\u3068\u3001\u5168\u78ba\u7387\u30921\u306b\u6a19\u6e96\u5316\u3057\u3066\u304f\u308c\u308b\u3002"
     ]
    },
    {
     "cell_type": "markdown",
     "metadata": {},
     "source": [
      "\u78ba\u7387\u3092\u5909\u66f4\u3059\u308b\u65b9\u6cd5\u306f\u4ed6\u306b\u3082\u3001\u3042\u308b\u5024\u3092\u53d6\u308b\u78ba\u7387\u3092n\u500d\u3059\u308bMult\u3084\u3001"
     ]
    },
    {
     "cell_type": "code",
     "collapsed": false,
     "input": [
      "pmf = thinkstats2.Pmf([1, 2, 2, 3, 5])\n",
      "print(pmf)\n",
      "pmf.Mult(2, 0.5)\n",
      "print(pmf)\n",
      "pmf.Normalize()\n",
      "print(pmf)"
     ],
     "language": "python",
     "metadata": {},
     "outputs": [
      {
       "output_type": "stream",
       "stream": "stdout",
       "text": [
        "Pmf({1: 0.2, 2: 0.4, 3: 0.2, 5: 0.2})\n",
        "Pmf({1: 0.2, 2: 0.2, 3: 0.2, 5: 0.2})\n",
        "Pmf({1: 0.25, 2: 0.25, 3: 0.25, 5: 0.25})\n"
       ]
      }
     ],
     "prompt_number": 16
    },
    {
     "cell_type": "markdown",
     "metadata": {},
     "source": [
      "\u5358\u7d14\u306b\u66f8\u304d\u63db\u3048\u308b\u65b9\u6cd5"
     ]
    },
    {
     "cell_type": "code",
     "collapsed": false,
     "input": [
      "pmf[2] = 0.2\n",
      "print(pmf)\n",
      "pmf.Normalize()\n",
      "print(pmf)"
     ],
     "language": "python",
     "metadata": {},
     "outputs": [
      {
       "output_type": "stream",
       "stream": "stdout",
       "text": [
        "Pmf({1: 0.25, 2: 0.2, 3: 0.25, 5: 0.25})\n",
        "Pmf({1: 0.2631578947368421, 2: 0.21052631578947367, 3: 0.2631578947368421, 5: 0.2631578947368421})\n"
       ]
      }
     ],
     "prompt_number": 18
    },
    {
     "cell_type": "markdown",
     "metadata": {},
     "source": [
      "\u3082\u3042\u308b\u3002"
     ]
    },
    {
     "cell_type": "markdown",
     "metadata": {},
     "source": [
      "## 3.2  Plotting PMFs"
     ]
    },
    {
     "cell_type": "markdown",
     "metadata": {},
     "source": [
      "\u68d2\u30b0\u30e9\u30d5\u3092\u6a2a\u306b\u4e26\u3079\u305f\u308a\u91cd\u306d\u305f\u308a\u3057\u3066\u3001Pmf\u306e\u69d8\u5b50\u3092\u30d7\u30ed\u30c3\u30c8"
     ]
    },
    {
     "cell_type": "code",
     "collapsed": false,
     "input": [
      "df = nsfg.ReadFemPreg()\n",
      "live = df[df.outcome == 1]\n",
      "firsts = live[df.birthord == 1]\n",
      "others = live[df.birthord > 1]\n",
      "weeks_f = firsts['prglngth']\n",
      "weeks_o = others['prglngth']\n",
      "first_pmf = thinkstats2.Pmf(weeks_f)\n",
      "other_pmf = thinkstats2.Pmf(weeks_o)\n",
      "\n",
      "width = 0.45\n",
      "\n",
      "# \u6a2a\u4e26\u3079\n",
      "thinkplot.PrePlot(2, cols=2) # \u30b0\u30e9\u30d5\u30922\u3064\u6a2a\u306b\u4e26\u3079\u308b\n",
      "thinkplot.Hist(first_pmf, align='right', width=width)\n",
      "thinkplot.Hist(other_pmf, align='left', width=width)\n",
      "thinkplot.Config(xlabel='weeks', ylabel='probability', axis=[27, 46, 0, 0.6])\n",
      "\n",
      "# \u91cd\u306d\u308b\n",
      "thinkplot.PrePlot(2)\n",
      "thinkplot.SubPlot(2)\n",
      "thinkplot.Pmfs([first_pmf, other_pmf])\n",
      "\n",
      "thinkplot.Show(xlabel='weeks', axis=[27, 46, 0, 0.6])"
     ],
     "language": "python",
     "metadata": {},
     "outputs": [
      {
       "metadata": {},
       "output_type": "display_data",
       "png": "[encoded data removed]",
       "text": [
        "<matplotlib.figure.Figure at 0x116641850>"
       ]
      },
      {
       "metadata": {},
       "output_type": "display_data",
       "text": [
        "<matplotlib.figure.Figure at 0x1156fd910>"
       ]
      }
     ],
     "prompt_number": 39
    },
    {
     "cell_type": "markdown",
     "metadata": {},
     "source": [
      "## 3.3  Other visualizations\n",
      "\n",
      "\n",
      "\u3042\u308b\u9031\u306b\u304a\u3044\u3066\u30011\u4eba\u76ee\u306e\u8d64\u3061\u3083\u3093\u306e\u5360\u3081\u308b\u5272\u5408\u30682\u4eba\u76ee\u4ee5\u964d\u306e\u8d64\u3061\u3083\u3093\u306e\u5360\u3081\u308b\u5272\u5408\u306e\u9055\u3044\u3092\u30d7\u30ed\u30c3\u30c8"
     ]
    },
    {
     "cell_type": "code",
     "collapsed": false,
     "input": [
      "weeks = range(35, 46)\n",
      "diffs = []\n",
      "for week in weeks:\n",
      "    p1 = first_pmf.Prob(week)\n",
      "    p2 = other_pmf.Prob(week)\n",
      "    diff = 100 * (p1 - p2)\n",
      "    diffs.append(diff)\n",
      "\n",
      "thinkplot.Bar(weeks, diffs)\n",
      "thinkplot.Show(xlabel='weeks', ylabel='difference in percentage (firsts - others)')"
     ],
     "language": "python",
     "metadata": {},
     "outputs": [
      {
       "metadata": {},
       "output_type": "display_data",
       "png": "[encoded data removed]",
       "text": [
        "<matplotlib.figure.Figure at 0x10e7fff90>"
       ]
      },
      {
       "metadata": {},
       "output_type": "display_data",
       "text": [
        "<matplotlib.figure.Figure at 0x116805210>"
       ]
      }
     ],
     "prompt_number": 43
    },
    {
     "cell_type": "code",
     "collapsed": false,
     "input": [],
     "language": "python",
     "metadata": {},
     "outputs": []
    },
    {
     "cell_type": "code",
     "collapsed": false,
     "input": [],
     "language": "python",
     "metadata": {},
     "outputs": []
    },
    {
     "cell_type": "code",
     "collapsed": false,
     "input": [],
     "language": "python",
     "metadata": {},
     "outputs": []
    },
    {
     "cell_type": "code",
     "collapsed": false,
     "input": [],
     "language": "python",
     "metadata": {},
     "outputs": []
    },
    {
     "cell_type": "code",
     "collapsed": false,
     "input": [],
     "language": "python",
     "metadata": {},
     "outputs": []
    },
    {
     "cell_type": "code",
     "collapsed": false,
     "input": [],
     "language": "python",
     "metadata": {},
     "outputs": []
    },
    {
     "cell_type": "code",
     "collapsed": false,
     "input": [],
     "language": "python",
     "metadata": {},
     "outputs": []
    }
   ],
   "metadata": {}
  }
 ]
}