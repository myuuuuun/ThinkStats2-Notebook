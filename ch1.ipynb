{
 "metadata": {
  "name": "",
  "signature": "sha256:47104c7a00fca149a5dbaefb4716a5ef120e572d7463d4d31a59f80021ee18d7"
 },
 "nbformat": 3,
 "nbformat_minor": 0,
 "worksheets": [
  {
   "cells": [
    {
     "cell_type": "markdown",
     "metadata": {},
     "source": [
      "# ThinkStat2  Chapter1  Exercise\u306e\u30b5\u30f3\u30d7\u30eb\u30b3\u30fc\u30c9\u3000\u5b9f\u884c\u4f8b"
     ]
    },
    {
     "cell_type": "markdown",
     "metadata": {},
     "source": [
      "## \u30e2\u30b8\u30e5\u30fc\u30eb\u985e\u306e\u30a4\u30f3\u30dd\u30fc\u30c8"
     ]
    },
    {
     "cell_type": "code",
     "collapsed": false,
     "input": [
      "#!/usr/bin/python\n",
      "#-*- encoding: utf-8 -*-\n",
      "\"\"\"\n",
      "Sample Codes for ThinkStats2 - Chapter1\n",
      "\n",
      "Copyright 2015 @myuuuuun\n",
      "URL: https://github.com/myuuuuun/ThinkStats2-Notebook\n",
      "License: GNU GPLv3 http://www.gnu.org/licenses/gpl.html\n",
      "\"\"\"\n",
      "\n",
      "import sys\n",
      "sys.path.append('./code')\n",
      "import pandas as pd\n",
      "import nsfg\n",
      "import custom_functions as cf\n"
     ],
     "language": "python",
     "metadata": {},
     "outputs": [],
     "prompt_number": 17
    },
    {
     "cell_type": "markdown",
     "metadata": {},
     "source": [
      "## Exercise1 Problem1\n",
      "\n",
      "\n",
      "Print value counts for prglngth and compare to results published in the codebook.  \n",
      "DataBook: http://www.icpsr.umich.edu/nsfg6/Controller?displayPage=labelDetails&fileCode=PREG&section=A&subSec=8016&srtLabel=611931"
     ]
    },
    {
     "cell_type": "code",
     "collapsed": false,
     "input": [
      "def ex1pr1():\n",
      "    # 2002\u5e74\u306ePrefnancy\u306b\u95a2\u3059\u308bNSFG\u306e\u30c7\u30fc\u30bf\u30d5\u30ec\u30fc\u30e0\u3092\u8aad\u307f\u8fbc\u3080\n",
      "    df = nsfg.ReadFemPreg()\n",
      "\n",
      "    # \u30c7\u30fc\u30bf\u30d5\u30ec\u30fc\u30e0\u304b\u3089\u598a\u5a20\u671f\u9593\u306e\u5217\u3092\u4ee3\u5165\n",
      "    prglngth = df.prglngth\n",
      "\n",
      "    # \u598a\u5a20\u9031\u3054\u3068\u306b\u96c6\u8a08\u3057\u3066\u8868\u793a\n",
      "    print(prglngth.value_counts().sort_index())\n",
      "\n",
      "    # \u4e0a\u8a18DataBook\u306e\u8868\u8a18\u306b\u5408\u3046\u3088\u3046\u306b\u96c6\u8a08\n",
      "    print(\"\\n+-----------------------------+\")\n",
      "    print(\"13 WEEKS OR LESS: {0}\"  .format(prglngth[prglngth <= 13].count()))\n",
      "    print(\"14-26 WEEKS: {0}\"         .format(prglngth[(13 < prglngth) & (prglngth <= 26)].count()))\n",
      "    print(\"27 WEEKS OR LONGER: {0}\"  .format(prglngth[prglngth > 26].count()))\n",
      "    print(\"\\nTOTAL: {0}\"             .format(len(prglngth)))\n",
      "    print(\"+-----------------------------+\")\n",
      "\n",
      "\n",
      "ex1pr1()"
     ],
     "language": "python",
     "metadata": {},
     "outputs": [
      {
       "output_type": "stream",
       "stream": "stdout",
       "text": [
        "0       15\n",
        "1        9\n",
        "2       78\n",
        "3      151\n",
        "4      412\n",
        "5      181\n",
        "6      543\n",
        "7      175\n",
        "8      409\n",
        "9      594\n",
        "10     137\n",
        "11     202\n",
        "12     170\n",
        "13     446\n",
        "14      29\n",
        "15      39\n",
        "16      44\n",
        "17     253\n",
        "18      17\n",
        "19      34\n",
        "20      18\n",
        "21      37\n",
        "22     147\n",
        "23      12\n",
        "24      31\n",
        "25      15\n",
        "26     117\n",
        "27       8\n",
        "28      38\n",
        "29      23\n",
        "30     198\n",
        "31      29\n",
        "32     122\n",
        "33      50\n",
        "34      60\n",
        "35     357\n",
        "36     329\n",
        "37     457\n",
        "38     609\n",
        "39    4744\n",
        "40    1120\n",
        "41     591\n",
        "42     328\n",
        "43     148\n",
        "44      46\n",
        "45      10\n",
        "46       1\n",
        "47       1\n",
        "48       7\n",
        "50       2\n",
        "dtype: int64\n",
        "\n",
        "+-----------------------------+\n",
        "13 WEEKS OR LESS: 3522\n",
        "14-26 WEEKS: 793\n",
        "27 WEEKS OR LONGER: 9278\n",
        "\n",
        "TOTAL: 13593\n",
        "+-----------------------------+\n"
       ]
      }
     ],
     "prompt_number": 18
    },
    {
     "cell_type": "markdown",
     "metadata": {},
     "source": [
      "## Exercise1 Problem2\n",
      "\n",
      "\n",
      "Print value counts for agepreg and compare to results published in the codebook.  \n",
      "DataBook: http://www.icpsr.umich.edu/nsfg6/Controller?displayPage=labelDetails&fileCode=PREG&section=A&subSec=8016&srtLabel=611935"
     ]
    },
    {
     "cell_type": "code",
     "collapsed": false,
     "input": [
      "def ex1pr2():\n",
      "    # 2002\u5e74\u306ePrefnancy\u306b\u95a2\u3059\u308bNSFG\u306e\u30c7\u30fc\u30bf\u30d5\u30ec\u30fc\u30e0\u3092\u8aad\u307f\u8fbc\u3080\n",
      "    df = nsfg.ReadFemPreg()\n",
      "\n",
      "    # \u598a\u5a20\u3057\u305f\u5e74\u9f62\u306e\u5217\u3092\u4ee3\u5165\n",
      "    agepreg = df.agepreg\n",
      "\n",
      "    # \u598a\u5a20\u3057\u305f\u5e74\u9f62\u3092\u96c6\u8a08\u3057\u3066\u8868\u793a\n",
      "    print(agepreg.value_counts().sort_index())\n",
      "\n",
      "    # \u4e0a\u8a18DataBook\u306e\u8868\u8a18\u306b\u5408\u3046\u3088\u3046\u306b\u96c6\u8a08\n",
      "    print(\"\\n+-----------------------------+\")\n",
      "    print(\"INAPPLICABLE: {0}\"  .format(agepreg.isnull().sum()))\n",
      "    print(\"UNDER 20 YEARS: {0}\".format(df[df.agepreg < 20].agepreg.count()))\n",
      "    print(\"20-24 YEARS: {0}\"   .format(len(agepreg[(20 <= agepreg) & (agepreg < 25)])))  #\u6761\u4ef6\u304c\u8907\u6570\u3042\u308b\u6642\u306f()\u3067\u304f\u304f\u308b\u3002\u6f14\u7b97\u5b50\u306f\u30d3\u30c3\u30c8\u6f14\u7b97\u5b50\u3092\u4f7f\u3046\u3002\n",
      "    print(\"25-29 YEARS: {0}\"   .format(len(df.query(\"agepreg >= 25 & agepreg < 30\"))))   #query\u3082\u5229\u7528\u3067\u304d\u308b\n",
      "    print(\"30-44 YEARS: {0}\"   .format(len([x for x in agepreg if x >= 30])))            #\u666e\u901a\u306e\u30ea\u30b9\u30c8\u3068\u540c\u69d8\u306b\u30ea\u30b9\u30c8\u5185\u5305\u8868\u8a18\u3082\u4f7f\u3048\u308b\n",
      "\n",
      "    print(\"\\nTOTAL: {0}\"  .format(len(agepreg)))  #len()\u306f\u5168\u8981\u7d20\u6570\u3092\u3001count()\u306fNaN\u3084Null\u3092\u9664\u3044\u305f\u8981\u7d20\u6570\u3092\u8fd4\u3059\n",
      "    print(\"TOTAL - INAPPLICABLE: {0}\"  .format(agepreg.count()))\n",
      "    print(\"+-----------------------------+\")\n",
      "\n",
      "\n",
      "ex1pr2()"
     ],
     "language": "python",
     "metadata": {},
     "outputs": [
      {
       "output_type": "stream",
       "stream": "stdout",
       "text": [
        "10.33    1\n",
        "10.50    1\n",
        "10.83    1\n",
        "10.91    1\n",
        "11.08    1\n",
        "11.41    1\n",
        "11.50    1\n",
        "11.75    2\n",
        "12.08    1\n",
        "12.25    1\n",
        "12.41    2\n",
        "12.50    1\n",
        "12.66    2\n",
        "12.75    1\n",
        "12.83    2\n",
        "...\n",
        "41.91    4\n",
        "42.08    2\n",
        "42.16    1\n",
        "42.25    1\n",
        "42.33    1\n",
        "42.41    1\n",
        "42.50    2\n",
        "42.58    2\n",
        "42.75    2\n",
        "43.00    3\n",
        "43.16    1\n",
        "43.25    4\n",
        "43.58    3\n",
        "43.91    1\n",
        "44.08    1\n",
        "Length: 373, dtype: int64\n",
        "\n",
        "+-----------------------------+\n",
        "INAPPLICABLE: 352\n",
        "UNDER 20 YEARS: 3182\n",
        "20-24 YEARS: 4246\n",
        "25-29 YEARS: 3178\n",
        "30-44 YEARS: 2635\n",
        "\n",
        "TOTAL: 13593\n",
        "TOTAL - INAPPLICABLE: 13241\n",
        "+-----------------------------+\n"
       ]
      }
     ],
     "prompt_number": 19
    },
    {
     "cell_type": "markdown",
     "metadata": {},
     "source": [
      "## Exercise1 Problem3\n",
      "\n",
      "\n",
      "Create a new column named totalwgt_kg that contains birth weight in kilograms. Compute its mean."
     ]
    },
    {
     "cell_type": "code",
     "collapsed": false,
     "input": [
      "def ex1pr3():\n",
      "    df = nsfg.ReadFemPreg()\n",
      "\n",
      "    # \u598a\u5a66 +\uff08\u304a\u8179\u306e\uff09\u8d64\u3061\u3083\u3093\u306e\u91cd\u3055\u306f\u30dd\u30f3\u30c9\u3067\u8a18\u9332\u3055\u308c\u3066\u3044\u308b\u306e\u3067\u3001\u30c7\u30fc\u30bf\u30d5\u30ec\u30fc\u30e0\u306b\u65b0\u3057\u3044\u5217\u3092\u8ffd\u52a0\u3057\u3001\u305d\u3053\u306bkg\u306e\u91cd\u3055\u3092\u4ee3\u5165\n",
      "    # pandas.DataFrame\u306b\u65b0\u3057\u3044\u5217\u3092\u3064\u304f\u308b\u6642\u306f dataframe['hoge'] \u306e\u3088\u3046\u306b\u3059\u308b\u3002\uff08dataframe.hoge = ... \u306f\u30c0\u30e1\uff09\n",
      "    df['totalwgt_kg'] = df.totalwgt_lb / 2.2  #1\u30dd\u30f3\u30c9 = 0.45kg\n",
      "\n",
      "    # \u30dd\u30f3\u30c9\u306e\u5217\u3068\u3001\u65b0\u3057\u304f\u4f5c\u3063\u305fkg\u306e\u5217\u3092\u6bd4\u8f03\uff08\u3061\u3083\u3093\u30682.2\u500d\u304f\u3089\u3044\u306b\u306a\u3063\u3066\u3044\u308b\u304b?\uff09\n",
      "    print(df[['totalwgt_kg', 'totalwgt_lb']])\n",
      "\n",
      "    # \u30dd\u30f3\u30c9\u306e\u5217\u306e\u5e73\u5747\u3068\u3001kg\u306e\u5217\u306e\u5e73\u5747\u3092\u6bd4\u8f03\n",
      "    print(\"Mean(kg): {0}\\nMean(pounds): {1}\".format(df.totalwgt_kg.mean(), df.totalwgt_lb.mean()))\n",
      "\n",
      "\n",
      "ex1pr3()"
     ],
     "language": "python",
     "metadata": {},
     "outputs": [
      {
       "output_type": "stream",
       "stream": "stdout",
       "text": [
        "       totalwgt_kg  totalwgt_lb\n",
        "0         4.005682       8.8125\n",
        "1         3.579545       7.8750\n",
        "2         4.147727       9.1250\n",
        "3         3.181818       7.0000\n",
        "4         2.812500       6.1875\n",
        "5         3.892045       8.5625\n",
        "6         4.346591       9.5625\n",
        "7         3.806818       8.3750\n",
        "8         3.437500       7.5625\n",
        "9         3.011364       6.6250\n",
        "10        3.551136       7.8125\n",
        "11        3.181818       7.0000\n",
        "12        1.818182       4.0000\n",
        "13             NaN          NaN\n",
        "14             NaN          NaN\n",
        "15        3.494318       7.6875\n",
        "16        3.409091       7.5000\n",
        "17        2.869318       6.3125\n",
        "18             NaN          NaN\n",
        "19        3.977273       8.7500\n",
        "20        3.721591       8.1875\n",
        "21        2.528409       5.5625\n",
        "22             NaN          NaN\n",
        "23        3.068182       6.7500\n",
        "24        3.352273       7.3750\n",
        "25        3.096591       6.8125\n",
        "26        3.693182       8.1250\n",
        "27        3.238636       7.1250\n",
        "28        2.755682       6.0625\n",
        "29        3.380682       7.4375\n",
        "...            ...          ...\n",
        "13563     3.494318       7.6875\n",
        "13564     3.465909       7.6250\n",
        "13565     3.693182       8.1250\n",
        "13566     3.409091       7.5000\n",
        "13567          NaN          NaN\n",
        "13568          NaN          NaN\n",
        "13569     2.642045       5.8125\n",
        "13570     3.039773       6.6875\n",
        "13571     2.727273       6.0000\n",
        "13572     2.642045       5.8125\n",
        "13573     2.982955       6.5625\n",
        "13574     2.784091       6.1250\n",
        "13575          NaN          NaN\n",
        "13576     2.926136       6.4375\n",
        "13577          NaN          NaN\n",
        "13578     2.727273       6.0000\n",
        "13579     3.181818       7.0000\n",
        "13580          NaN          NaN\n",
        "13581     2.897727       6.3750\n",
        "13582          NaN          NaN\n",
        "13583          NaN          NaN\n",
        "13584     2.897727       6.3750\n",
        "13585          NaN          NaN\n",
        "13586          NaN          NaN\n",
        "13587          NaN          NaN\n",
        "13588     2.812500       6.1875\n",
        "13589          NaN          NaN\n",
        "13590          NaN          NaN\n",
        "13591     3.409091       7.5000\n",
        "13592     3.409091       7.5000\n",
        "\n",
        "[13593 rows x 2 columns]\n",
        "Mean(kg): 3.30255838983\n",
        "Mean(pounds): 7.26562845762\n"
       ]
      }
     ],
     "prompt_number": 20
    },
    {
     "cell_type": "markdown",
     "metadata": {},
     "source": [
      "## Exercise1 Problem4\n",
      "\n",
      "\n",
      "Look through the codebook and find a variable, other than the ones mentioned in the book, that you find interesting. Compute values counts, means, or other statistics.  \n",
      "Explanation of variables: http://www.icpsr.umich.edu/nsfg6/Controller?displayPage=pregResp  \n",
      "DataBook (BABYSEX): http://www.icpsr.umich.edu/nsfg6/Controller?displayPage=labelDetails&fileCode=PREG&section=&subSec=8014&srtLabel=611801\n"
     ]
    },
    {
     "cell_type": "code",
     "collapsed": false,
     "input": [
      "def ex1pr4():\n",
      "    df = nsfg.ReadFemPreg()\n",
      "\n",
      "    # \u30c7\u30fc\u30bf\u30d5\u30ec\u30fc\u30e0\u306b\u3042\u308b\u5168\u3066\u306e\u5217\u3068\u3001\u305d\u306e\u57fa\u672c\u7d71\u8a08\u91cf\u3092\u8868\u793a\u3059\u308b\n",
      "    #cf.show_info_df(df)\n",
      "\n",
      "    # \u3053\u3053\u3067\u306f\u3001\u8d64\u3061\u3083\u3093\u306e\u6027\u5225\u304c\u3069\u306e\u4f4d\u306e\u5272\u5408\u3067\u5206\u5e03\u3057\u3066\u3044\u308b\u304b\u78ba\u304b\u3081\u3066\u307f\u308b\n",
      "    # \u4e00\u822c\u306b\u306f\u3001\u7537105 : \u5973100 \u304f\u3089\u3044\u3060\u3068\u8a00\u308f\u308c\u3066\u3044\u308b\n",
      "    babysex = df['babysex']\n",
      "\n",
      "    # babysex\u306e\u5217\u306e\u57fa\u672c\u7d71\u8a08\u91cf\u3092\u8868\u793a\n",
      "    print(babysex.describe(), \"\\n\")\n",
      "\n",
      "    # \u300c1\u300d\u306f\u7537\u3001\u300c2\u300d\u306f\u5973\u306e\u610f\u5473\uff08DataBook\u3092\u53c2\u7167\uff09\u306a\u306e\u3067\u3001\u7f6e\u304d\u63db\u3048\u3066\u4f55\u884c\u304b\u8868\u793a\u3057\u3066\u307f\u308b\n",
      "    print(babysex.replace({1: \"Male\", 2:\"Female\"}))\n",
      "\n",
      "    # \u7537\u5973\u6bd4\u304c\u3069\u306e\u304f\u3089\u3044\u304b\u8abf\u3079\u3066\u307f\u308b\n",
      "    print(\"\\nTotal: {0}\\nMale: {1}\\nFemale: {2}\\nNaN: {3}\\n\" \\\n",
      "        .format(len(babysex), len(df[df.babysex == 1]), len(df[df.babysex == 2]), df.babysex.isnull().sum()))\n",
      "    print(\"Percentage of Male: {0:.3f}%\\nPercentage of Feale: {1:.3f}%\" \\\n",
      "        .format((len(df[df.babysex == 1]) * 100.0 / df.babysex.count()), (len(df[df.babysex == 2]) * 100.0 / df.babysex.count())))\n",
      "\n",
      "\n",
      "ex1pr4()"
     ],
     "language": "python",
     "metadata": {},
     "outputs": [
      {
       "output_type": "stream",
       "stream": "stdout",
       "text": [
        "(count    9141.000000\n",
        "mean        1.492287\n",
        "std         0.499968\n",
        "min         1.000000\n",
        "25%         1.000000\n",
        "50%         1.000000\n",
        "75%         2.000000\n",
        "max         2.000000\n",
        "dtype: float64, '\\n')\n",
        "0       Male\n",
        "1     Female\n",
        "2       Male\n",
        "3     Female\n",
        "4     Female\n",
        "5       Male\n",
        "6     Female\n",
        "7     Female\n",
        "8       Male\n",
        "9     Female\n",
        "10      Male\n",
        "11    Female\n",
        "12      Male\n",
        "13       NaN\n",
        "14       NaN\n",
        "...\n",
        "13578    Female\n",
        "13579      Male\n",
        "13580       NaN\n",
        "13581      Male\n",
        "13582       NaN\n",
        "13583       NaN\n",
        "13584    Female\n",
        "13585       NaN\n",
        "13586       NaN\n",
        "13587       NaN\n",
        "13588      Male\n",
        "13589       NaN\n",
        "13590       NaN\n",
        "13591      Male\n",
        "13592      Male\n",
        "Name: babysex, Length: 13593, dtype: object\n",
        "\n",
        "Total: 13593\n",
        "Male: 4641\n",
        "Female: 4500\n",
        "NaN: 4452\n",
        "\n",
        "Percentage of Male: 50.771%\n",
        "Percentage of Feale: 49.229%\n"
       ]
      }
     ],
     "prompt_number": 21
    },
    {
     "cell_type": "markdown",
     "metadata": {},
     "source": [
      "## Exercise1 Problem5\n",
      "\n",
      "\n",
      "Count the number of live births with birthwgt_lb between 9 and 95 pounds (including both). The result should be 798"
     ]
    },
    {
     "cell_type": "code",
     "collapsed": false,
     "input": [
      "def ex1pr5():\n",
      "    df = nsfg.ReadFemPreg()\n",
      "\n",
      "    # outcome\u5217\u3092\u4f7f\u3044\u3001\u751f\u304d\u3066\u7523\u307e\u308c\u305f\u8d64\u3061\u3083\u3093\u3060\u3051\u3092\u53d6\u308a\u51fa\u3059\u3002\n",
      "    live = df[df.outcome == 1]\n",
      "\n",
      "    # \u53d6\u308a\u51fa\u3057\u305f\u8d64\u3061\u3083\u3093\u306e\u91cd\u3055\u3092\u8868\u793a\u3059\u308b\n",
      "    birthwgt_lb = df.birthwgt_lb\n",
      "    print(\"From 9 to 95 pounds: {0}\".format(len(live.query(\"birthwgt_lb >= 9 & birthwgt_lb <= 95\"))))\n",
      "\n",
      "\n",
      "ex1pr5()"
     ],
     "language": "python",
     "metadata": {},
     "outputs": [
      {
       "output_type": "stream",
       "stream": "stdout",
       "text": [
        "From 9 to 95 pounds: 798\n"
       ]
      }
     ],
     "prompt_number": 22
    },
    {
     "cell_type": "markdown",
     "metadata": {},
     "source": [
      "## Exercise1 Problem6\n",
      "\n",
      "\n",
      "Compute the mean prglngth for first babies and others. Compute the difference in means, expressed in hours."
     ]
    },
    {
     "cell_type": "code",
     "collapsed": false,
     "input": [
      "def ex1pr6():\n",
      "    df = nsfg.ReadFemPreg()\n",
      "\n",
      "    # 1\u4eba\u76ee\u306e\u8d64\u3061\u3083\u3093\u3068\u30012\u4eba\u76ee\u4ee5\u964d\u306e\u8d64\u3061\u3083\u3093\u3092\u3068\u308a\u51fa\u3059\n",
      "    firsts = df[df.birthord == 1]\n",
      "    others = df[df.birthord > 1]\n",
      "\n",
      "    # \u305d\u308c\u305e\u308c\u598a\u5a20\u671f\u9593\u306e\u5e73\u5747\u3092\u8a08\u7b97\u3059\u308b\n",
      "    weeks_f = firsts['prglngth'].mean()\n",
      "    weeks_o = others['prglngth'].mean()\n",
      "\n",
      "    # \u305d\u306e\u5dee\u3092hour\u5358\u4f4d\u306b\u63db\u7b97\n",
      "    difference = (weeks_f - weeks_o) * 7 * 24\n",
      "\n",
      "    print(\"1st babies prglngth(mean): {0:.3} WEEKS\".format(weeks_f))\n",
      "    print(\"Other babies prglngth(mean): {0:.3} WEEKS\".format(weeks_o))\n",
      "    print(\"Difference(firsts - others): {0:.3} hours\".format(difference))\n",
      "\n",
      "\n",
      "ex1pr6()"
     ],
     "language": "python",
     "metadata": {},
     "outputs": [
      {
       "output_type": "stream",
       "stream": "stdout",
       "text": [
        "1st babies prglngth(mean): 38.6 WEEKS\n",
        "Other babies prglngth(mean): 38.5 WEEKS\n",
        "Difference(firsts - others): 13.1 hours\n"
       ]
      }
     ],
     "prompt_number": 23
    },
    {
     "cell_type": "markdown",
     "metadata": {},
     "source": [
      "## Exercise2-1\n",
      "\n",
      "\n",
      "Print the value counts for this variable(pregnum: how many times each respondent has been pregnant) and compare them to the published results.  \n",
      "DataBook: http://www.icpsr.umich.edu/nsfg6/Controller?displayPage=labelDetails&fileCode=FEM&section=R&subSec=7869&srtLabel=606835"
     ]
    },
    {
     "cell_type": "code",
     "collapsed": false,
     "input": [
      "def ex2pr1():\n",
      "    df = cf.ReadFemResp()\n",
      "\n",
      "    # \u30c7\u30fc\u30bf\u304c\u4f55\u56de\u76ee\u306e\u598a\u5a20\u304b\u3092\u51fa\u529b\n",
      "    pregnum = df['pregnum']\n",
      "    #printf(pregnum)\n",
      "    print(pregnum.value_counts().sort_index(), \"\\n\") #19\u56de\u306f\u4fe1\u983c\u6027\u306e\u3042\u308b\u6570\u5b57\u304b\uff1f\n",
      "    print(\"NONE: {0}\".format(len(df.query(\"pregnum == 0\"))))\n",
      "    print(\"1 PREGNANCY: {0}\".format(len(df.query(\"pregnum == 1\"))))\n",
      "    print(\"2 PREGNANCIES: {0}\".format(len(df.query(\"pregnum == 2\"))))\n",
      "    print(\"3 PREGNANCIES: {0}\".format(len(df.query(\"pregnum == 3\"))))\n",
      "    print(\"4 PREGNANCIES: {0}\".format(len(df.query(\"pregnum == 4\"))))\n",
      "    print(\"5 PREGNANCIES: {0}\".format(len(df.query(\"pregnum == 5\"))))\n",
      "    print(\"6 PREGNANCIES: {0}\".format(len(df.query(\"pregnum == 6\"))))\n",
      "    print(\"7 OR MORE PREGNANCIES: {0}\".format(len(df.query(\"pregnum > 6\"))))\n",
      "    print(\"\\nTOTAL: {0}\".format(pregnum.count()))\n",
      "    \n",
      "\n",
      "ex2pr1()"
     ],
     "language": "python",
     "metadata": {},
     "outputs": [
      {
       "output_type": "stream",
       "stream": "stdout",
       "text": [
        "(0     2610\n",
        "1     1267\n",
        "2     1432\n",
        "3     1110\n",
        "4      611\n",
        "5      305\n",
        "6      150\n",
        "7       80\n",
        "8       40\n",
        "9       21\n",
        "10       9\n",
        "11       3\n",
        "12       2\n",
        "14       2\n",
        "19       1\n",
        "dtype: int64, '\\n')\n",
        "NONE: 2610"
       ]
      },
      {
       "output_type": "stream",
       "stream": "stdout",
       "text": [
        "\n",
        "1 PREGNANCY: 1267"
       ]
      },
      {
       "output_type": "stream",
       "stream": "stdout",
       "text": [
        "\n",
        "2 PREGNANCIES: 1432\n",
        "3 PREGNANCIES: 1110"
       ]
      },
      {
       "output_type": "stream",
       "stream": "stdout",
       "text": [
        "\n",
        "4 PREGNANCIES: 611\n",
        "5 PREGNANCIES: 305\n",
        "6 PREGNANCIES: 150"
       ]
      },
      {
       "output_type": "stream",
       "stream": "stdout",
       "text": [
        "\n",
        "7 OR MORE PREGNANCIES: 158\n",
        "\n",
        "TOTAL: 7643\n"
       ]
      }
     ],
     "prompt_number": 24
    },
    {
     "cell_type": "markdown",
     "metadata": {},
     "source": [
      "##Exercise2-2"
     ]
    },
    {
     "cell_type": "code",
     "collapsed": false,
     "input": [
      "# Ex2 Preg\u8f9e\u66f8\u3068Resp\u8f9e\u66f8\u306e\u305d\u308c\u305e\u308c\u3067\u3001\u540c\u3058caseid\u3092\u6301\u3064\u56de\u7b54\u8005\u304c\u540c\u3058pregnum\u306e\u5024\u3092\u7b54\u3048\u3066\u3044\u308b\u304b\u8abf\u3079\u308b\n",
      "def ex2pr2():\n",
      "    df = nsfg.ReadFemPreg()\n",
      "    df2 = cf.ReadFemResp()\n",
      "    dict_preg = nsfg.MakePregMap(df)\n",
      "\n",
      "    for caseid in sorted(dict_preg):\n",
      "        pregnum_of_df = len(dict_preg[caseid])\n",
      "        pregnum_of_df2 = df2[df2.caseid == caseid].pregnum.values[0]\n",
      "\n",
      "        # \u4e00\u81f4\u3057\u3066\u3044\u305f\u3089true\n",
      "        is_valid = pregnum_of_df == pregnum_of_df2\n",
      "\n",
      "        # \u5168\u3066\u306ecaseid\u306b\u3064\u3044\u3066\u30012\u3064\u306e\u8f9e\u66f8\u3067\u598a\u5a20\u56de\u6570\u304c\u4e00\u81f4\u3057\u3066\u3044\u308b\u304bprint\n",
      "        \"\"\"\n",
      "        print(\"\\ncaseid: {0}\u3055\u3093\u306f\u3001\".format(caseid))\n",
      "        message = \"\u6b63\u3057\u3044\u30c7\u30fc\u30bf\u3067\u3059\uff01\" if is_valid else \"\u4e0d\u6b63\u306a\u30c7\u30fc\u30bf\u3067\u3059\uff01\"\n",
      "        print(message)\n",
      "        print(\"Preg: {0}\u4eba\u3001 Resp: {1}\u4eba\\n\".format(pregnum_of_df, pregnum_of_df2))\n",
      "        print(\"+\" + \"-\" * 20 + \"+\")\n",
      "        \"\"\"\n",
      "\n",
      "        if is_valid == False:\n",
      "            break\n",
      "\n",
      "    # \u5168\u3066\u4e00\u81f4\u3057\u3066\u3044\u305f\u3089True, 1\u3064\u3067\u3082\u9055\u3063\u305f\u3089False\n",
      "    print(is_valid)\n",
      "\n",
      "\n",
      "ex2pr2()"
     ],
     "language": "python",
     "metadata": {},
     "outputs": [
      {
       "output_type": "stream",
       "stream": "stdout",
       "text": [
        "True\n"
       ]
      }
     ],
     "prompt_number": 25
    },
    {
     "cell_type": "code",
     "collapsed": false,
     "input": [],
     "language": "python",
     "metadata": {},
     "outputs": [],
     "prompt_number": 25
    }
   ],
   "metadata": {}
  }
 ]
}